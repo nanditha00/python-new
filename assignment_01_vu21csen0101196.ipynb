{
  "nbformat": 4,
  "nbformat_minor": 0,
  "metadata": {
    "colab": {
      "name": "assignment 01-vu21csen0101196",
      "provenance": [],
      "collapsed_sections": [],
      "include_colab_link": true
    },
    "kernelspec": {
      "name": "python3",
      "display_name": "Python 3"
    },
    "language_info": {
      "name": "python"
    }
  },
  "cells": [
    {
      "cell_type": "markdown",
      "metadata": {
        "id": "view-in-github",
        "colab_type": "text"
      },
      "source": [
        "<a href=\"https://colab.research.google.com/github/nanditha00/python-new/blob/assignment-1/assignment_01_vu21csen0101196.ipynb\" target=\"_parent\"><img src=\"https://colab.research.google.com/assets/colab-badge.svg\" alt=\"Open In Colab\"/></a>"
      ]
    },
    {
      "cell_type": "code",
      "execution_count": null,
      "metadata": {
        "id": "fXSaUf4_naaP"
      },
      "outputs": [],
      "source": [
        "#python list \n",
        "viggies=['brinjal','potatoes','onions','tomatoes']"
      ]
    },
    {
      "cell_type": "code",
      "source": [
        "#type of the list\n",
        "num=['1','2','6','7']\n",
        "print(num)\n",
        "print(type(num))"
      ],
      "metadata": {
        "colab": {
          "base_uri": "https://localhost:8080/"
        },
        "id": "23By8hXUpY2N",
        "outputId": "55b5b393-085e-4513-a905-071281896425"
      },
      "execution_count": null,
      "outputs": [
        {
          "output_type": "stream",
          "name": "stdout",
          "text": [
            "['1', '2', '6', '7']\n",
            "<class 'list'>\n"
          ]
        }
      ]
    },
    {
      "cell_type": "code",
      "source": [
        "#accessing the list items\n",
        "fruits=[\"apple\",\"mango\",\"grapes\",\"orange\"]\n",
        "print(fruits[2])"
      ],
      "metadata": {
        "colab": {
          "base_uri": "https://localhost:8080/"
        },
        "id": "-NnYUOLbp6rh",
        "outputId": "883be085-9900-463c-e3fb-c1c09f5a2bf3"
      },
      "execution_count": null,
      "outputs": [
        {
          "output_type": "stream",
          "name": "stdout",
          "text": [
            "grapes\n"
          ]
        }
      ]
    },
    {
      "cell_type": "code",
      "source": [
        "#accessing the list items  by giving negative index values\n",
        "fruits=[\"mango\",\"guava\",\"apple\",\"orange\"]\n",
        "print(fruits[-1])"
      ],
      "metadata": {
        "colab": {
          "base_uri": "https://localhost:8080/"
        },
        "id": "PKwzQXu2qPmb",
        "outputId": "118a3cf3-2cbf-44ea-e86a-542d570a4632"
      },
      "execution_count": null,
      "outputs": [
        {
          "output_type": "stream",
          "name": "stdout",
          "text": [
            "orange\n"
          ]
        }
      ]
    },
    {
      "cell_type": "code",
      "source": [
        "#accessing the list of items by giving both index and position values\n",
        "fruits=[\"mango\",\"guava\",\"apple\",\"orange\"]\n",
        "print(fruits[1:4])\n"
      ],
      "metadata": {
        "colab": {
          "base_uri": "https://localhost:8080/"
        },
        "id": "VgHimuFqqpOM",
        "outputId": "ba5eca99-d820-4ad5-d73c-a6a3eab85145"
      },
      "execution_count": null,
      "outputs": [
        {
          "output_type": "stream",
          "name": "stdout",
          "text": [
            "['guava', 'apple', 'orange']\n"
          ]
        }
      ]
    },
    {
      "cell_type": "code",
      "source": [
        "#accessing the items by giving only index values\n",
        "fruits=[\"mango\",\"guava\",\"apple\",\"orange\"]\n",
        "print(fruits[2:])    #elements from 2 but not 2 are printed"
      ],
      "metadata": {
        "colab": {
          "base_uri": "https://localhost:8080/"
        },
        "id": "Qk1jmF95rOOX",
        "outputId": "2bc41886-f9c4-4ddd-aba5-d4a8ab220c35"
      },
      "execution_count": null,
      "outputs": [
        {
          "output_type": "stream",
          "name": "stdout",
          "text": [
            "['apple', 'orange']\n"
          ]
        }
      ]
    },
    {
      "cell_type": "code",
      "source": [
        "#accessing the list items by giving position values\n",
        "fruits=[\"mango\",\"guava\",\"apple\",\"orange\"]\n",
        "print(fruits[:3])   #elements upto 3 are printed as output"
      ],
      "metadata": {
        "colab": {
          "base_uri": "https://localhost:8080/"
        },
        "id": "EKYn7VWmrkLQ",
        "outputId": "71179758-539c-43b1-a395-ad182c070457"
      },
      "execution_count": null,
      "outputs": [
        {
          "output_type": "stream",
          "name": "stdout",
          "text": [
            "['mango', 'guava', 'apple']\n"
          ]
        }
      ]
    },
    {
      "cell_type": "code",
      "source": [
        "#accessing the items by giving negative index values\n",
        "fruits=[\"mango\",\"guava\",\"apple\",\"orange\"]\n",
        "print(fruits[-4:-1])  #elements from -4 i.e mango to -1 i.e orange but not orange"
      ],
      "metadata": {
        "colab": {
          "base_uri": "https://localhost:8080/"
        },
        "id": "aay_5yRar78M",
        "outputId": "7a86c23c-aa31-46d0-fec5-70e12f1a2812"
      },
      "execution_count": null,
      "outputs": [
        {
          "output_type": "stream",
          "name": "stdout",
          "text": [
            "['mango', 'guava', 'apple']\n"
          ]
        }
      ]
    },
    {
      "cell_type": "code",
      "source": [
        "#checking if the items are present in the list\n",
        "pets=[\"dogs\",\"cats\",\"rabbits\",\"birds\"]\n",
        "if \"pigs\" in pets:\n",
        "  print(\"yes it is present!\")\n",
        "else:\n",
        "  print(\"no it isnt present in the list\")"
      ],
      "metadata": {
        "colab": {
          "base_uri": "https://localhost:8080/"
        },
        "id": "gBosc2WYtBh9",
        "outputId": "e02d0b12-97dc-419e-f013-1ef13d188cd7"
      },
      "execution_count": null,
      "outputs": [
        {
          "output_type": "stream",
          "name": "stdout",
          "text": [
            "no it isnt present in the list\n"
          ]
        }
      ]
    },
    {
      "cell_type": "code",
      "source": [
        "#changing the list of items\n",
        "fruits=[\"mango\",\"guava\",\"apple\",\"orange\"]\n",
        "fruits[3]= \"musk melon\"\n",
        "print(fruits)"
      ],
      "metadata": {
        "colab": {
          "base_uri": "https://localhost:8080/"
        },
        "id": "anqMZftAtr8V",
        "outputId": "e6da5e7b-1939-487a-962e-e5e6e6cf6fea"
      },
      "execution_count": null,
      "outputs": [
        {
          "output_type": "stream",
          "name": "stdout",
          "text": [
            "['mango', 'guava', 'apple', 'musk melon']\n"
          ]
        }
      ]
    },
    {
      "cell_type": "code",
      "source": [
        "#changing the list of items\n",
        "fruits=[\"mango\",\"guava\",\"apple\",\"orange\"]\n",
        "fruits[2:4]=\"grapes\",\"papaya\"\n",
        "print(fruits)"
      ],
      "metadata": {
        "colab": {
          "base_uri": "https://localhost:8080/"
        },
        "id": "qsC8XFRFuH1d",
        "outputId": "0c0ac01c-00d6-4571-f0fa-956f204a5e8f"
      },
      "execution_count": null,
      "outputs": [
        {
          "output_type": "stream",
          "name": "stdout",
          "text": [
            "['mango', 'guava', 'grapes', 'papaya']\n"
          ]
        }
      ]
    },
    {
      "cell_type": "code",
      "source": [
        "#inserting an element in the list at the specified position\n",
        "fruits=[\"mango\",\"guava\",\"apple\",\"orange\"]\n",
        "fruits.insert(1,\"papaya\")\n",
        "print(fruits)"
      ],
      "metadata": {
        "colab": {
          "base_uri": "https://localhost:8080/"
        },
        "id": "0zmaBagRxObA",
        "outputId": "47aa841f-e9f4-4646-cfbc-88f52a2cbcb5"
      },
      "execution_count": null,
      "outputs": [
        {
          "output_type": "stream",
          "name": "stdout",
          "text": [
            "['mango', 'papaya', 'guava', 'apple', 'orange']\n"
          ]
        }
      ]
    },
    {
      "cell_type": "code",
      "source": [
        "#adding an item to the list using append\n",
        "fruits=[\"mango\",\"guava\",\"apple\",\"orange\"]\n",
        "fruits.append(\"grapes\")\n",
        "print(fruits)"
      ],
      "metadata": {
        "colab": {
          "base_uri": "https://localhost:8080/"
        },
        "id": "PHsEB3r_xtzr",
        "outputId": "701c87ca-d870-4961-a481-43b3f13a84df"
      },
      "execution_count": null,
      "outputs": [
        {
          "output_type": "stream",
          "name": "stdout",
          "text": [
            "['mango', 'guava', 'apple', 'orange', 'grapes']\n"
          ]
        }
      ]
    },
    {
      "cell_type": "code",
      "source": [
        "#removing an item using the remove\n",
        "fruits=[\"mango\",\"guava\",\"apple\",\"orange\"]\n",
        "fruits.remove(\"guava\")\n",
        "print(fruits)"
      ],
      "metadata": {
        "colab": {
          "base_uri": "https://localhost:8080/"
        },
        "id": "crnM7STzx3VV",
        "outputId": "cfbb1b24-e3c9-458e-fb24-3539820ed8fa"
      },
      "execution_count": null,
      "outputs": [
        {
          "output_type": "stream",
          "name": "stdout",
          "text": [
            "['mango', 'apple', 'orange']\n"
          ]
        }
      ]
    },
    {
      "cell_type": "code",
      "source": [
        "#removing an item using pop\n",
        "fruits=[\"mango\",\"guava\",\"apple\",\"orange\"]\n",
        "fruits.pop(2)\n",
        "print(fruits)"
      ],
      "metadata": {
        "colab": {
          "base_uri": "https://localhost:8080/"
        },
        "id": "cbCY7QCsyQiY",
        "outputId": "885ea54e-a515-40da-ad70-0eeea8e074fc"
      },
      "execution_count": null,
      "outputs": [
        {
          "output_type": "stream",
          "name": "stdout",
          "text": [
            "['mango', 'guava', 'orange']\n"
          ]
        }
      ]
    },
    {
      "cell_type": "code",
      "source": [
        "#removing an item using delete\n",
        "fruits=[\"mango\",\"guava\",\"apple\",\"orange\"]\n",
        "del fruits[2]\n",
        "print(fruits)"
      ],
      "metadata": {
        "colab": {
          "base_uri": "https://localhost:8080/"
        },
        "id": "6dN5b1DFyeO0",
        "outputId": "325798cd-2e65-4eea-fe87-ac6b813eda7d"
      },
      "execution_count": null,
      "outputs": [
        {
          "output_type": "stream",
          "name": "stdout",
          "text": [
            "['mango', 'guava', 'orange']\n"
          ]
        }
      ]
    },
    {
      "cell_type": "code",
      "source": [
        "#deleting the list\n",
        "fruits=[\"mango\",\"guava\",\"apple\",\"orange\"]\n",
        "del fruits"
      ],
      "metadata": {
        "id": "hMNOg6KKzHgE"
      },
      "execution_count": null,
      "outputs": []
    },
    {
      "cell_type": "code",
      "source": [
        "#loop conditions if-else\n",
        "fruits=[\"mango\",\"guava\",\"apple\",\"orange\"]\n",
        "if \"papaya\" in fruits:\n",
        "  print(\"yes it is present\")\n",
        "else:\n",
        "  print(\"no it is not present\")"
      ],
      "metadata": {
        "colab": {
          "base_uri": "https://localhost:8080/"
        },
        "id": "FYHhSV-PzO7Z",
        "outputId": "1aa1a73f-3268-4c77-e47c-126ffa2e57de"
      },
      "execution_count": null,
      "outputs": [
        {
          "output_type": "stream",
          "name": "stdout",
          "text": [
            "no it is not present\n"
          ]
        }
      ]
    },
    {
      "cell_type": "code",
      "source": [
        "#while loop\n",
        "fruits=[\"mango\",\"guava\",\"apple\",\"orange\"]\n",
        "i=0\n",
        "while i < len(fruits):\n",
        "  print(fruits[i])\n",
        "  i+=1\n"
      ],
      "metadata": {
        "colab": {
          "base_uri": "https://localhost:8080/"
        },
        "id": "fCd2Awjtzl4z",
        "outputId": "ecebe8d0-680f-4bf3-d830-7a784d939767"
      },
      "execution_count": null,
      "outputs": [
        {
          "output_type": "stream",
          "name": "stdout",
          "text": [
            "mango\n",
            "guava\n",
            "apple\n",
            "orange\n"
          ]
        }
      ]
    },
    {
      "cell_type": "code",
      "source": [
        "#sorting the list\n",
        "fruits=[\"mango\",\"guava\",\"apple\",\"orange\"]\n",
        "fruits.sort()\n",
        "print(fruits)"
      ],
      "metadata": {
        "colab": {
          "base_uri": "https://localhost:8080/"
        },
        "id": "16YLZZWWz-s4",
        "outputId": "8ec01a44-b821-4a02-b757-994bc7d76d64"
      },
      "execution_count": null,
      "outputs": [
        {
          "output_type": "stream",
          "name": "stdout",
          "text": [
            "['apple', 'guava', 'mango', 'orange']\n"
          ]
        }
      ]
    },
    {
      "cell_type": "code",
      "source": [
        "#sorting the numbers in ascending order\n",
        "num=[1,3,6,2,8,0]\n",
        "num.sort()\n",
        "print(num)"
      ],
      "metadata": {
        "colab": {
          "base_uri": "https://localhost:8080/"
        },
        "id": "YZXXk7xm0NAV",
        "outputId": "0779a9a9-604c-481e-ae9b-a969469eeb2b"
      },
      "execution_count": null,
      "outputs": [
        {
          "output_type": "stream",
          "name": "stdout",
          "text": [
            "[0, 1, 2, 3, 6, 8]\n"
          ]
        }
      ]
    },
    {
      "cell_type": "code",
      "source": [
        "#sorting the numbers in descending order\n",
        "num=[9,0,2,5,8]\n",
        "num.sort(reverse= True)\n",
        "print(num)"
      ],
      "metadata": {
        "colab": {
          "base_uri": "https://localhost:8080/"
        },
        "id": "6WbXiqVv02SY",
        "outputId": "51112079-d201-4689-a803-47e933cf4e08"
      },
      "execution_count": null,
      "outputs": [
        {
          "output_type": "stream",
          "name": "stdout",
          "text": [
            "[9, 8, 5, 2, 0]\n"
          ]
        }
      ]
    },
    {
      "cell_type": "code",
      "source": [
        "#copying a list\n",
        "veggies=[\"potatoes\",\"brinjal\",\"tomatoes\",\"cauliflower\"]\n",
        "mylist=list(veggies)\n",
        "print(mylist)"
      ],
      "metadata": {
        "colab": {
          "base_uri": "https://localhost:8080/"
        },
        "id": "N5QeGHat1M8T",
        "outputId": "bd988e7d-c8cb-4974-c19f-379c8503e7a9"
      },
      "execution_count": null,
      "outputs": [
        {
          "output_type": "stream",
          "name": "stdout",
          "text": [
            "['potatoes', 'brinjal', 'tomatoes', 'cauliflower']\n"
          ]
        }
      ]
    },
    {
      "cell_type": "code",
      "source": [
        "#joining two lists\n",
        "alph=['a','n','f','y']\n",
        "inte=['1','2','4','0']\n",
        "mix= alph + inte\n",
        "print(mix)"
      ],
      "metadata": {
        "colab": {
          "base_uri": "https://localhost:8080/"
        },
        "id": "wxn86Lyr2eO2",
        "outputId": "151f212d-85f6-4fe3-f6a8-c84c828c73be"
      },
      "execution_count": null,
      "outputs": [
        {
          "output_type": "stream",
          "name": "stdout",
          "text": [
            "['a', 'n', 'f', 'y', '1', '2', '4', '0']\n"
          ]
        }
      ]
    },
    {
      "cell_type": "code",
      "source": [
        ""
      ],
      "metadata": {
        "id": "d7msZQ2923RW"
      },
      "execution_count": null,
      "outputs": []
    }
  ]
}