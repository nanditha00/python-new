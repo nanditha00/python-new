{
  "nbformat": 4,
  "nbformat_minor": 0,
  "metadata": {
    "colab": {
      "name": "dictionaries prac",
      "provenance": [],
      "authorship_tag": "ABX9TyMoQdm/Xzfdxc93k2QXFIX9",
      "include_colab_link": true
    },
    "kernelspec": {
      "name": "python3",
      "display_name": "Python 3"
    },
    "language_info": {
      "name": "python"
    }
  },
  "cells": [
    {
      "cell_type": "markdown",
      "metadata": {
        "id": "view-in-github",
        "colab_type": "text"
      },
      "source": [
        "<a href=\"https://colab.research.google.com/github/nanditha00/python-new/blob/practice-programs/dictionaries_prac.ipynb\" target=\"_parent\"><img src=\"https://colab.research.google.com/assets/colab-badge.svg\" alt=\"Open In Colab\"/></a>"
      ]
    },
    {
      "cell_type": "code",
      "execution_count": null,
      "metadata": {
        "colab": {
          "base_uri": "https://localhost:8080/"
        },
        "id": "TjDveklDSAsK",
        "outputId": "f7515b1f-2907-4ff7-8a85-1cf9def5b90c"
      },
      "outputs": [
        {
          "output_type": "stream",
          "name": "stdout",
          "text": [
            "{'name': 'nandu', 'roll': '1196', 'subject': 'python'}\n"
          ]
        }
      ],
      "source": [
        "thisdict={\n",
        "    \"name\":\"nandu\",\n",
        "    \"roll\":1196,\n",
        "    \"subject\":\"python\"\n",
        "}\n",
        "print(thisdict)"
      ]
    },
    {
      "cell_type": "code",
      "source": [
        "thisdict={\n",
        "    \"name\":\"nandu\",\n",
        "    \"roll\":1196,\n",
        "    \"subject\":\"python\"\n",
        "}\n",
        "print(thisdict[\"roll\"])\n",
        "print(len(thisdict))"
      ],
      "metadata": {
        "colab": {
          "base_uri": "https://localhost:8080/"
        },
        "id": "aOnOnRERSgPL",
        "outputId": "96c6abeb-6106-47fc-df43-aea9dcf90eec"
      },
      "execution_count": null,
      "outputs": [
        {
          "output_type": "stream",
          "name": "stdout",
          "text": [
            "1196\n",
            "3\n"
          ]
        }
      ]
    },
    {
      "cell_type": "code",
      "source": [
        "thisdict={\n",
        "    \"name\":\"nandu\",\n",
        "    \"roll\":1196,\n",
        "    \"subject\":\"python\"\n",
        "}\n",
        "print(thisdict.get(\"roll\"))\n",
        "x=thisdict.keys()\n",
        "print(x)\n",
        "thisdict[\"subject\"]='social'\n",
        "print(thisdict)"
      ],
      "metadata": {
        "colab": {
          "base_uri": "https://localhost:8080/"
        },
        "id": "FPnSmdjWTJeX",
        "outputId": "a77e2b98-36c5-4c54-b24d-1a1f478d6365"
      },
      "execution_count": null,
      "outputs": [
        {
          "output_type": "stream",
          "name": "stdout",
          "text": [
            "1196\n",
            "dict_keys(['name', 'roll', 'subject'])\n",
            "{'name': 'nandu', 'roll': 1196, 'subject': 'social'}\n"
          ]
        }
      ]
    },
    {
      "cell_type": "code",
      "source": [
        "thisdict={\n",
        "    \"name\":\"nandu\",\n",
        "    \"roll\":1196,\n",
        "    \"subject\":\"python\"\n",
        "}\n",
        "print(thisdict.values())\n",
        "thisdict.update({\"color\":\"pastel colors\"})\n",
        "print(thisdict)"
      ],
      "metadata": {
        "colab": {
          "base_uri": "https://localhost:8080/"
        },
        "id": "EHrRajQvVfx4",
        "outputId": "81f463c1-50cb-4c16-d59b-981e0a61246c"
      },
      "execution_count": null,
      "outputs": [
        {
          "output_type": "stream",
          "name": "stdout",
          "text": [
            "dict_values(['nandu', 1196, 'python'])\n",
            "{'name': 'nandu', 'roll': 1196, 'subject': 'python', 'color': 'pastel colors'}\n"
          ]
        }
      ]
    },
    {
      "cell_type": "code",
      "source": [
        "thisdict={\n",
        "    \"name\":\"nandu\",\n",
        "    \"roll\":1196,\n",
        "    \"subject\":\"python\"\n",
        "}\n",
        "if \"name\" in thisdict:\n",
        "  print(\"yes the name is present and \",thisdict.get(\"name\"))"
      ],
      "metadata": {
        "colab": {
          "base_uri": "https://localhost:8080/"
        },
        "id": "44GT7SA1WpRh",
        "outputId": "fe316377-d586-41cc-913f-cee95d90aa53"
      },
      "execution_count": null,
      "outputs": [
        {
          "output_type": "stream",
          "name": "stdout",
          "text": [
            "yes the name is present and  nandu\n"
          ]
        }
      ]
    },
    {
      "cell_type": "code",
      "source": [
        "thisdict={\n",
        "    \"name\":\"nandu\",\n",
        "    \"roll\":1196,\n",
        "    \"subject\":\"python\"\n",
        "}\n",
        "thisdict.pop(\"roll\")\n",
        "print(thisdict)"
      ],
      "metadata": {
        "colab": {
          "base_uri": "https://localhost:8080/"
        },
        "id": "1q_SFz_yXcpx",
        "outputId": "5e892975-c459-4ee2-f7b3-ace0a2d50a38"
      },
      "execution_count": null,
      "outputs": [
        {
          "output_type": "stream",
          "name": "stdout",
          "text": [
            "{'name': 'nandu', 'subject': 'python'}\n"
          ]
        }
      ]
    },
    {
      "cell_type": "code",
      "source": [
        "thisdict={\n",
        "    \"name\":\"nandu\",\n",
        "    \"roll\":1196,\n",
        "    \"subject\":\"python\"\n",
        "}\n",
        "thisdict.popitem()\n",
        "print(thisdict)"
      ],
      "metadata": {
        "colab": {
          "base_uri": "https://localhost:8080/"
        },
        "id": "AStvkal-XuyR",
        "outputId": "a391d5f6-6a22-45db-ede3-dd38e8ca7059"
      },
      "execution_count": null,
      "outputs": [
        {
          "output_type": "stream",
          "name": "stdout",
          "text": [
            "{'name': 'nandu', 'roll': 1196}\n"
          ]
        }
      ]
    },
    {
      "cell_type": "code",
      "source": [
        "thisdict={\n",
        "    \"name\":\"nandu\",\n",
        "    \"roll\":1196,\n",
        "    \"subject\":\"python\"\n",
        "}\n",
        "for x in thisdict:\n",
        "  print(thisdict[x])"
      ],
      "metadata": {
        "colab": {
          "base_uri": "https://localhost:8080/"
        },
        "id": "VbWiS6mXYHVm",
        "outputId": "e216b7e5-55d1-4e14-f964-0745c223db0b"
      },
      "execution_count": null,
      "outputs": [
        {
          "output_type": "stream",
          "name": "stdout",
          "text": [
            "nandu\n",
            "1196\n",
            "python\n"
          ]
        }
      ]
    },
    {
      "cell_type": "code",
      "source": [
        "thisdict={\n",
        "    \"name\":\"nandu\",\n",
        "    \"roll\":1196,\n",
        "    \"subject\":\"python\"\n",
        "}\n",
        "for x,y in thisdict.items():\n",
        "           print(x,y)"
      ],
      "metadata": {
        "colab": {
          "base_uri": "https://localhost:8080/"
        },
        "id": "nsgucZcSYv3Z",
        "outputId": "cefae061-e864-43a1-ed9b-1f02d76e6af5"
      },
      "execution_count": null,
      "outputs": [
        {
          "output_type": "stream",
          "name": "stdout",
          "text": [
            "name nandu\n",
            "roll 1196\n",
            "subject python\n"
          ]
        }
      ]
    },
    {
      "cell_type": "code",
      "source": [
        "thisdict={\n",
        "    \"name\":\"nandu\",\n",
        "    \"roll\":1196,\n",
        "    \"subject\":\"python\"\n",
        "}\n",
        "x=thisdict.copy()\n",
        "print(x)"
      ],
      "metadata": {
        "colab": {
          "base_uri": "https://localhost:8080/"
        },
        "id": "ur8qnwxPZQ0c",
        "outputId": "5ce261b1-c9b2-4f31-db40-37e826367cf3"
      },
      "execution_count": null,
      "outputs": [
        {
          "output_type": "stream",
          "name": "stdout",
          "text": [
            "{'name': 'nandu', 'roll': 1196, 'subject': 'python'}\n"
          ]
        }
      ]
    },
    {
      "cell_type": "code",
      "source": [
        "import matplotlib.pyplot as plt\n",
        "import numpy as np\n",
        "xpoints=np.array([5,6,8,9])\n",
        "ypoints=np.array([10,20,14,16])\n",
        "plt.plot(xpoints,ypoints)\n",
        "plt.show()\n",
        "\n"
      ],
      "metadata": {
        "colab": {
          "base_uri": "https://localhost:8080/",
          "height": 265
        },
        "id": "xNIvqDDlkr-d",
        "outputId": "aa553bb9-da87-434b-cfc9-96d70fda6cbe"
      },
      "execution_count": null,
      "outputs": [
        {
          "output_type": "display_data",
          "data": {
            "text/plain": [
              "<Figure size 432x288 with 1 Axes>"
            ],
            "image/png": "[encoded data removed]"
          },
          "metadata": {
            "needs_background": "light"
          }
        }
      ]
    },
    {
      "cell_type": "code",
      "source": [
        "import matplotlib.pyplot as plt\n",
        "import numpy as np\n",
        "x=[1,2,3]\n",
        "y=[10,15,20]\n",
        "plt.plot(x,y,'o')\n",
        "plt.show()\n"
      ],
      "metadata": {
        "colab": {
          "base_uri": "https://localhost:8080/",
          "height": 265
        },
        "id": "Rw2wi0q5oDKr",
        "outputId": "5f9e617d-96b2-4a04-8039-a51facf06ce6"
      },
      "execution_count": null,
      "outputs": [
        {
          "output_type": "display_data",
          "data": {
            "text/plain": [
              "<Figure size 432x288 with 1 Axes>"
            ],
            "image/png": "[encoded data removed]"
          },
          "metadata": {
            "needs_background": "light"
          }
        }
      ]
    },
    {
      "cell_type": "code",
      "source": [
        "import matplotlib.pyplot as plt\n",
        "import numpy as np\n",
        "x=np.array([1,2,3])\n",
        "plt.plot(x,'o')\n",
        "plt.show()"
      ],
      "metadata": {
        "colab": {
          "base_uri": "https://localhost:8080/",
          "height": 265
        },
        "id": "zovGCe8Gq5cu",
        "outputId": "17354c0d-2dd5-4696-b001-72c7f7a06d0d"
      },
      "execution_count": null,
      "outputs": [
        {
          "output_type": "display_data",
          "data": {
            "text/plain": [
              "<Figure size 432x288 with 1 Axes>"
            ],
            "image/png": "[encoded data removed]"
          },
          "metadata": {
            "needs_background": "light"
          }
        }
      ]
    },
    {
      "cell_type": "code",
      "source": [
        "import matplotlib.pyplot as plt\n",
        "import numpy as np\n",
        "x=np.array([1,2,3])\n",
        "plt.plot(x,marker=',')\n",
        "plt.show()"
      ],
      "metadata": {
        "colab": {
          "base_uri": "https://localhost:8080/",
          "height": 265
        },
        "id": "7W-hcudorSdX",
        "outputId": "15248bd1-0a1b-4198-fb18-e24ba0ec15b8"
      },
      "execution_count": null,
      "outputs": [
        {
          "output_type": "display_data",
          "data": {
            "text/plain": [
              "<Figure size 432x288 with 1 Axes>"
            ],
            "image/png": "[encoded data removed]"
          },
          "metadata": {
            "needs_background": "light"
          }
        }
      ]
    },
    {
      "cell_type": "code",
      "source": [
        "##marker|ine|colour format(fmt)\n",
        "import matplotlib.pyplot as plt\n",
        "import numpy as np\n",
        "x=np.array([1,2,3])\n",
        "plt.plot(x,'o-.r',ms=5.8,mec='k')\n",
        "plt.show()"
      ],
      "metadata": {
        "colab": {
          "base_uri": "https://localhost:8080/",
          "height": 265
        },
        "id": "Xz3Mu0HVr3m3",
        "outputId": "362b447c-c870-4835-c628-716db7c03fc1"
      },
      "execution_count": null,
      "outputs": [
        {
          "output_type": "display_data",
          "data": {
            "text/plain": [
              "<Figure size 432x288 with 1 Axes>"
            ],
            "image/png": "[encoded data removed]"
          },
          "metadata": {
            "needs_background": "light"
          }
        }
      ]
    },
    {
      "cell_type": "code",
      "source": [
        "import matplotlib.pyplot as plt\n",
        "import numpy as np\n",
        "x=np.array([1,2,3,4,5,6,7,10])\n",
        "plt.plot(x,ls='-',c='hotpink',linewidth=8)\n",
        "plt.show()"
      ],
      "metadata": {
        "colab": {
          "base_uri": "https://localhost:8080/",
          "height": 265
        },
        "id": "pHWvZoGlrhoR",
        "outputId": "7a9d7b98-2e3b-4cf5-d3a2-1a3fa8549843"
      },
      "execution_count": null,
      "outputs": [
        {
          "output_type": "display_data",
          "data": {
            "text/plain": [
              "<Figure size 432x288 with 1 Axes>"
            ],
            "image/png": "[encoded data removed]"
          },
          "metadata": {
            "needs_background": "light"
          }
        }
      ]
    },
    {
      "cell_type": "code",
      "source": [
        "import matplotlib.pyplot as plt\n",
        "import numpy as np\n",
        "x1=np.array([2,3,4,5,6])\n",
        "x2=np.array([10,20,30,40,50])\n",
        "plt.plot(x1,c='k')\n",
        "plt.plot(x2,c='r')\n",
        "plt.grid()\n",
        "plt.show()"
      ],
      "metadata": {
        "colab": {
          "base_uri": "https://localhost:8080/",
          "height": 265
        },
        "id": "RT5yHHVluD6Y",
        "outputId": "cb8ae67a-9944-400c-c251-f05e51d45c00"
      },
      "execution_count": null,
      "outputs": [
        {
          "output_type": "display_data",
          "data": {
            "text/plain": [
              "<Figure size 432x288 with 1 Axes>"
            ],
            "image/png": "[encoded data removed]"
          },
          "metadata": {
            "needs_background": "light"
          }
        }
      ]
    },
    {
      "cell_type": "code",
      "source": [
        "import matplotlib.pyplot as plt\n",
        "import numpy as np\n",
        "x1=np.array([2,3,4,5,6])\n",
        "x2=np.array([10,20,30,40,50])\n",
        "plt.plot(x1,c='k')\n",
        "plt.plot(x2,c='r')\n",
        "plt.grid(axis='y')\n",
        "plt.show()"
      ],
      "metadata": {
        "colab": {
          "base_uri": "https://localhost:8080/",
          "height": 265
        },
        "id": "0hhDatWGwBcU",
        "outputId": "656568ce-b617-4026-8e2e-c5ba4f1b3816"
      },
      "execution_count": null,
      "outputs": [
        {
          "output_type": "display_data",
          "data": {
            "text/plain": [
              "<Figure size 432x288 with 1 Axes>"
            ],
            "image/png": "[encoded data removed]"
          },
          "metadata": {
            "needs_background": "light"
          }
        }
      ]
    },
    {
      "cell_type": "code",
      "source": [
        "import matplotlib.pyplot as plt\n",
        "import numpy as np\n",
        "x=np.array([1,2,3,4,5,6,7])\n",
        "y=np.array([10,20,35,46,47,56,27])\n",
        "plt.subplot(1,2,1)\n",
        "plt.plot(x,y)\n",
        "plt.show()\n"
      ],
      "metadata": {
        "colab": {
          "base_uri": "https://localhost:8080/",
          "height": 265
        },
        "id": "Qw7JLa9pwcQG",
        "outputId": "9a9eda5e-9d98-4097-fbd6-e1f1eb4a7291"
      },
      "execution_count": null,
      "outputs": [
        {
          "output_type": "display_data",
          "data": {
            "text/plain": [
              "<Figure size 432x288 with 1 Axes>"
            ],
            "image/png": "[encoded data removed]"
          },
          "metadata": {
            "needs_background": "light"
          }
        }
      ]
    }
  ]
}