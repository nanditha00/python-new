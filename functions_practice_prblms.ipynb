{
  "nbformat": 4,
  "nbformat_minor": 0,
  "metadata": {
    "colab": {
      "name": "functions practice prblms",
      "provenance": [],
      "collapsed_sections": [],
      "authorship_tag": "ABX9TyN2ab/VkyrIpUj9ZZNsjE+p",
      "include_colab_link": true
    },
    "kernelspec": {
      "name": "python3",
      "display_name": "Python 3"
    },
    "language_info": {
      "name": "python"
    }
  },
  "cells": [
    {
      "cell_type": "markdown",
      "metadata": {
        "id": "view-in-github",
        "colab_type": "text"
      },
      "source": [
        "<a href=\"https://colab.research.google.com/github/nanditha00/python-new/blob/practice-programs/functions_practice_prblms.ipynb\" target=\"_parent\"><img src=\"https://colab.research.google.com/assets/colab-badge.svg\" alt=\"Open In Colab\"/></a>"
      ]
    },
    {
      "cell_type": "code",
      "execution_count": null,
      "metadata": {
        "colab": {
          "base_uri": "https://localhost:8080/"
        },
        "id": "5yV4QKpO0SZq",
        "outputId": "4c084ce7-0960-445e-9321-7ca98390e345"
      },
      "outputs": [
        {
          "output_type": "stream",
          "name": "stdout",
          "text": [
            "the addition of two numbers is: 9\n",
            "the mul of two numbers is : 20\n"
          ]
        }
      ],
      "source": [
        "def add(n1,n2):\n",
        "        add=n1+n2\n",
        "        print(\"the addition of two numbers is:\",add)\n",
        "def mul(n1,n2):\n",
        "        mul=n1*n2\n",
        "        print(\"the mul of two numbers is :\",mul)\n",
        "n1=4\n",
        "n2=5\n",
        "add(n1,n2)\n",
        "mul(n1,n2)\n",
        "\n",
        "\n",
        "\n"
      ]
    },
    {
      "cell_type": "code",
      "source": [
        "def myFun(*argv):\n",
        "    for arg in argv:\n",
        "        print (arg)\n",
        "   \n",
        "myFun('Hello', 'Welcome', 'to', 'GeeksforGeeks')"
      ],
      "metadata": {
        "colab": {
          "base_uri": "https://localhost:8080/"
        },
        "id": "7mr1Xr02GcQ4",
        "outputId": "457733bc-94e3-498d-9cbc-123b181f0bcf"
      },
      "execution_count": null,
      "outputs": [
        {
          "output_type": "stream",
          "name": "stdout",
          "text": [
            "Hello\n",
            "Welcome\n",
            "to\n",
            "GeeksforGeeks\n"
          ]
        }
      ]
    },
    {
      "cell_type": "code",
      "source": [
        "dict={\"name\":\"nandu\",\"subj\":\"python\"}\n",
        "for key in dict:\n",
        "  print(key)"
      ],
      "metadata": {
        "colab": {
          "base_uri": "https://localhost:8080/"
        },
        "id": "0fFWVpXgz0_W",
        "outputId": "e7de9e4c-0997-4950-f509-426ad93c94b9"
      },
      "execution_count": null,
      "outputs": [
        {
          "output_type": "stream",
          "name": "stdout",
          "text": [
            "name\n",
            "subj\n"
          ]
        }
      ]
    },
    {
      "cell_type": "code",
      "source": [
        "set1={\"apple\",\"mango\",\"orange\",\"pineapple\"}\n",
        "set2={\"grapes\",\"watermelon\",\"orange\",\"mango\",\"pineapple\"}\n",
        "set_difference=set2.difference(set1)\n",
        "print(set_difference)\n",
        "set_intersection=set1.intersection(set2)\n",
        "print(set_intersection)"
      ],
      "metadata": {
        "colab": {
          "base_uri": "https://localhost:8080/"
        },
        "id": "8t0MLEQZ-CYd",
        "outputId": "cce0a449-8270-4d95-859c-4956592c0978"
      },
      "execution_count": null,
      "outputs": [
        {
          "output_type": "stream",
          "name": "stdout",
          "text": [
            "{'watermelon', 'grapes'}\n",
            "{'orange', 'mango', 'pineapple'}\n"
          ]
        }
      ]
    },
    {
      "cell_type": "code",
      "source": [
        "def list1():\n",
        "          listx=[1,7,9,2]\n",
        "print(\"the max among the list elements is:\",max(listx))\n",
        "listy=[2,10]\n",
        "print(\"the min among the list elements is:\",min(listy))\n",
        "list1()\n",
        "\n"
      ],
      "metadata": {
        "colab": {
          "base_uri": "https://localhost:8080/"
        },
        "id": "a76rF_fD-9PZ",
        "outputId": "fffe7529-0956-4299-f390-563604662673"
      },
      "execution_count": null,
      "outputs": [
        {
          "output_type": "stream",
          "name": "stdout",
          "text": [
            "the max among the list elements is: 9\n",
            "the min among the list elements is: 2\n"
          ]
        }
      ]
    },
    {
      "cell_type": "code",
      "source": [
        "list1=[\"apples\",\"mangoes\",\"banana\",\"orange\"]\n",
        "list2=[\"pineapple\",\"watermelon\",\"banana\",\"orange\"]\n",
        "a=set(list1)\n",
        "b=set(list2)\n",
        "print(a)\n",
        "print(b)\n",
        "list_difference=a.difference(b)\n",
        "print(list_difference)"
      ],
      "metadata": {
        "colab": {
          "base_uri": "https://localhost:8080/"
        },
        "id": "PlmjBzDkG9Yp",
        "outputId": "ef472378-2820-49fb-936f-594efb6315ee"
      },
      "execution_count": null,
      "outputs": [
        {
          "output_type": "stream",
          "name": "stdout",
          "text": [
            "{'banana', 'orange', 'apples', 'mangoes'}\n",
            "{'watermelon', 'orange', 'banana', 'pineapple'}\n",
            "{'apples', 'mangoes'}\n"
          ]
        }
      ]
    },
    {
      "cell_type": "code",
      "source": [
        "def min():\n",
        "  a=list.sort()\n",
        "  b=len(list)\n",
        "  print(\"second minimum num is:\",list[1])\n",
        "list=['1','5','6','3']\n",
        "min()\n"
      ],
      "metadata": {
        "colab": {
          "base_uri": "https://localhost:8080/"
        },
        "id": "hP7LMxFHH-sy",
        "outputId": "21be30ef-f422-41e4-9210-05992d9158f1"
      },
      "execution_count": null,
      "outputs": [
        {
          "output_type": "stream",
          "name": "stdout",
          "text": [
            "second minimum num is: 3\n",
            "second maximum num is : 4\n"
          ]
        }
      ]
    },
    {
      "cell_type": "code",
      "source": [
        "def max():\n",
        "  list.sort(reverse=True)\n",
        "  b=list.copy()\n",
        "  print(\"second maximum num is:\",b[1])\n",
        "list=[5,9,10,1]\n",
        "max()"
      ],
      "metadata": {
        "colab": {
          "base_uri": "https://localhost:8080/"
        },
        "id": "hhpSmbbcK8jz",
        "outputId": "8436c722-31df-4f71-ec9c-ede01b0d876c"
      },
      "execution_count": null,
      "outputs": [
        {
          "output_type": "stream",
          "name": "stdout",
          "text": [
            "second maximum num is: 9\n"
          ]
        }
      ]
    },
    {
      "cell_type": "code",
      "source": [
        "my_list = [23, 42, 67, 89, 11, 32]\n",
        "print(\"The list is\" )\n",
        "print(my_list)\n",
        "print(\"The resultant tuple is :\")\n",
        "my_result = [(val,val**2) , for val in my_list]\n",
        "print(my_result)"
      ],
      "metadata": {
        "colab": {
          "base_uri": "https://localhost:8080/",
          "height": 133
        },
        "id": "bQKvKMG2Lec-",
        "outputId": "eb1835b7-01bc-491f-845b-8d629ca8f6c7"
      },
      "execution_count": null,
      "outputs": [
        {
          "output_type": "error",
          "ename": "SyntaxError",
          "evalue": "ignored",
          "traceback": [
            "\u001b[0;36m  File \u001b[0;32m\"<ipython-input-3-bc984b37ffe9>\"\u001b[0;36m, line \u001b[0;32m5\u001b[0m\n\u001b[0;31m    my_result = [(val,val**2), for val in my_list]\u001b[0m\n\u001b[0m                                 ^\u001b[0m\n\u001b[0;31mSyntaxError\u001b[0m\u001b[0;31m:\u001b[0m invalid syntax\n"
          ]
        }
      ]
    },
    {
      "cell_type": "code",
      "source": [
        "#tuples in list with num and their squares\n",
        "def values():\n",
        "  result=[(val,val**2)for val in list]\n",
        "  print(result)\n",
        "list=[12,14,8,9]\n",
        "values()\n"
      ],
      "metadata": {
        "colab": {
          "base_uri": "https://localhost:8080/"
        },
        "id": "45F-yX6QVMwK",
        "outputId": "2b925086-a899-467c-a81c-9302810e2554"
      },
      "execution_count": null,
      "outputs": [
        {
          "output_type": "stream",
          "name": "stdout",
          "text": [
            "[(12, 144), (14, 196), (8, 64), (9, 81)]\n"
          ]
        }
      ]
    },
    {
      "cell_type": "code",
      "source": [
        "#prgrm to generate a num in dict and its square\n",
        "def dicto():\n",
        "      for x in dict:\n",
        "                  dict[x]=x*x\n",
        "      print(dict)\n",
        "dict={2:\"\",3:\"\",5:\"\",8:\"\"}\n",
        "dicto()\n",
        "\n"
      ],
      "metadata": {
        "colab": {
          "base_uri": "https://localhost:8080/"
        },
        "id": "8S7irRBTX8Gd",
        "outputId": "9f2bf8ab-00f6-49f1-bfe2-69303a000906"
      },
      "execution_count": null,
      "outputs": [
        {
          "output_type": "stream",
          "name": "stdout",
          "text": [
            "{2: 4, 3: 9, 5: 25, 8: 64}\n"
          ]
        }
      ]
    },
    {
      "cell_type": "code",
      "source": [
        "#prgrm to print the max and min value in a dict\n",
        "dict={3,1,10,6,0}\n",
        "a=list(dict)\n",
        "a.sort()\n",
        "print(dict)\n",
        "print(\"the max of dict is:\",a[4])\n",
        "print(a)"
      ],
      "metadata": {
        "colab": {
          "base_uri": "https://localhost:8080/"
        },
        "id": "Kb1jDBgDPOew",
        "outputId": "cb829f96-851c-4fad-834b-b2d3cd1b2f73"
      },
      "execution_count": null,
      "outputs": [
        {
          "output_type": "stream",
          "name": "stdout",
          "text": [
            "{0, 1, 3, 6, 10}\n",
            "the max of dict is: 10\n",
            "[0, 1, 3, 6, 10]\n"
          ]
        }
      ]
    },
    {
      "cell_type": "code",
      "source": [
        "def prime():\n",
        "  for i in range(25,50):\n",
        "        c=0\n",
        "        for x in range(1,i+1):\n",
        "            if i%x==0:\n",
        "              c=c+1\n",
        "        if c<=2:\n",
        "         print(i)\n",
        "prime()\n",
        "    "
      ],
      "metadata": {
        "colab": {
          "base_uri": "https://localhost:8080/"
        },
        "id": "sc2eKgs4Yztk",
        "outputId": "ffba8174-92a2-4748-94d9-12892c0364f3"
      },
      "execution_count": null,
      "outputs": [
        {
          "output_type": "stream",
          "name": "stdout",
          "text": [
            "29\n",
            "31\n",
            "37\n",
            "41\n",
            "43\n",
            "47\n"
          ]
        }
      ]
    },
    {
      "cell_type": "code",
      "source": [
        "def reapeatNumTimes(n):\n",
        "    list=[]\n",
        "    for i in range(1,n+1):\n",
        "                for x in range(i):\n",
        "                     list.append(i)\n",
        "    print(list)\n",
        "reapeatNumTimes(4)"
      ],
      "metadata": {
        "colab": {
          "base_uri": "https://localhost:8080/"
        },
        "id": "2QCetarzTbFf",
        "outputId": "2f528624-8b19-4ff3-bceb-79c566989f4e"
      },
      "execution_count": null,
      "outputs": [
        {
          "output_type": "stream",
          "name": "stdout",
          "text": [
            "[1, 2, 2, 3, 3, 3, 4, 4, 4, 4]\n"
          ]
        }
      ]
    },
    {
      "cell_type": "code",
      "source": [
        "def reapeatNumTimes(n):\n",
        "    list=[]\n",
        "    for i in range(1,n+1):\n",
        "                for x in range(i):\n",
        "                     list.append(i)\n",
        "    return(list)\n",
        "reapeatNumTimes(4)\n"
      ],
      "metadata": {
        "colab": {
          "base_uri": "https://localhost:8080/"
        },
        "id": "z8YHO3Y1Y5m3",
        "outputId": "d0a3a0e4-6fdb-4b18-b087-da794e8dd987"
      },
      "execution_count": null,
      "outputs": [
        {
          "output_type": "execute_result",
          "data": {
            "text/plain": [
              "[1, 2, 2, 3, 3, 3, 4, 4, 4, 4]"
            ]
          },
          "metadata": {},
          "execution_count": 2
        }
      ]
    }
  ]
}