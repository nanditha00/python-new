{
  "nbformat": 4,
  "nbformat_minor": 0,
  "metadata": {
    "colab": {
      "name": "module 2 new",
      "provenance": [],
      "collapsed_sections": [],
      "authorship_tag": "ABX9TyO3drA9Tt1FIfKDZpXptu2k",
      "include_colab_link": true
    },
    "kernelspec": {
      "name": "python3",
      "display_name": "Python 3"
    },
    "language_info": {
      "name": "python"
    }
  },
  "cells": [
    {
      "cell_type": "markdown",
      "metadata": {
        "id": "view-in-github",
        "colab_type": "text"
      },
      "source": [
        "<a href=\"https://colab.research.google.com/github/nanditha00/python-new/blob/MODULE-2/module_2_new.ipynb\" target=\"_parent\"><img src=\"https://colab.research.google.com/assets/colab-badge.svg\" alt=\"Open In Colab\"/></a>"
      ]
    },
    {
      "cell_type": "code",
      "execution_count": null,
      "metadata": {
        "colab": {
          "base_uri": "https://localhost:8080/"
        },
        "id": "eNDEyIZ_IJBw",
        "outputId": "e71a291f-d60f-40f7-cd99-07ac9cc6cabb"
      },
      "outputs": [
        {
          "output_type": "stream",
          "name": "stdout",
          "text": [
            "enter first number:4\n",
            "enter second number:5\n",
            "gcd is:\n",
            "1\n"
          ]
        }
      ],
      "source": [
        "##recursive function to compute gcd of 2 numbers\n",
        "def gcd(a,b):\n",
        "  if(b==0):\n",
        "    return a\n",
        "  else:\n",
        "    return gcd(b,a%b)\n",
        "a=int(input(\"enter first number:\"))\n",
        "b=int(input(\"enter second number:\"))\n",
        "gcd=gcd(a,b)\n",
        "print(\"gcd is:\")\n",
        "print(gcd)\n"
      ]
    },
    {
      "cell_type": "code",
      "source": [
        "##Program to print a specified list after removing the 0th, 4th and 5th elements. \n",
        "colours=['Red', 'Green', 'White', 'Black', 'Pink', 'Yellow'] \n",
        "colours.pop(0)\n",
        "colours.pop(4)\n",
        "colours.pop(-1)\n",
        "print(colours)\n"
      ],
      "metadata": {
        "colab": {
          "base_uri": "https://localhost:8080/"
        },
        "id": "pTnhdmkoROKb",
        "outputId": "f5d69c69-2e58-477f-e393-a2d9fb137f18"
      },
      "execution_count": null,
      "outputs": [
        {
          "output_type": "stream",
          "name": "stdout",
          "text": [
            "['Green', 'White', 'Black']\n"
          ]
        }
      ]
    },
    {
      "cell_type": "code",
      "source": [
        "#difference between lists\n",
        "def Diff(li1, li2):\n",
        "                return list(set(li1) - set(li2)) + list(set(li2) - set(li1))\n",
        "li1 = [10, 15, 20, 25, 30, 35, 40]\n",
        "li2 = [25, 40, 35]\n",
        "print(Diff(li1, li2))"
      ],
      "metadata": {
        "colab": {
          "base_uri": "https://localhost:8080/"
        },
        "id": "2f5thIGDqXG9",
        "outputId": "456acfec-d525-418c-b967-46d9cbb719dd"
      },
      "execution_count": null,
      "outputs": [
        {
          "output_type": "stream",
          "name": "stdout",
          "text": [
            "[10, 20, 30, 15]\n"
          ]
        }
      ]
    },
    {
      "cell_type": "code",
      "source": [
        "##to compute ncr\n",
        "def nCr(a,b):\n",
        "       return(fact(a)/(fact(b)*fact(a-b)))\n",
        "a=int(input(\"\"))\n",
        "b=int(input(\"\"))\n",
        "def fact(a):\n",
        "  res=1\n",
        "  for i in range(2,a+1):\n",
        "    res=res*i\n",
        "  return res\n",
        "print(int(nCr(a,b)))\n"
      ],
      "metadata": {
        "colab": {
          "base_uri": "https://localhost:8080/"
        },
        "id": "w3n6AoqQquU5",
        "outputId": "5194ffde-9f64-424d-ccea-7d3076047767"
      },
      "execution_count": null,
      "outputs": [
        {
          "output_type": "stream",
          "name": "stdout",
          "text": [
            "5\n",
            "3\n",
            "10\n"
          ]
        }
      ]
    },
    {
      "cell_type": "code",
      "source": [
        "##recursive function to find product of two numbers\n",
        "def product(num1,num2):\n",
        "  if(num1<num2):\n",
        "    return product(num2,num1)\n",
        "  elif(num2!=0):\n",
        "    return(num1+product(num1,num2-1))\n",
        "  else:\n",
        "    return 0\n",
        "num1=int(input(\"enter first number:\"))\n",
        "num2=int(input(\"enter second number:\"))\n",
        "print(\"product is:\",product(num1,num2))"
      ],
      "metadata": {
        "id": "1YG_wrHatpuZ",
        "colab": {
          "base_uri": "https://localhost:8080/"
        },
        "outputId": "d656868a-d0bd-41c5-df33-c863f61f5840"
      },
      "execution_count": null,
      "outputs": [
        {
          "output_type": "stream",
          "name": "stdout",
          "text": [
            "enter first number:3\n",
            "enter second number:5\n",
            "product is: 15\n"
          ]
        }
      ]
    },
    {
      "cell_type": "code",
      "source": [
        "##recursive func to find fibonacci series\n",
        "def fibo(n):\n",
        "  if n<=1:\n",
        "    return n\n",
        "  else:\n",
        "    return(fibo(n-1)+fibo(n-2))\n",
        "nterms=int(input(\"num of terms\"))\n",
        "if nterms<0:\n",
        "  print(\"enter a positive integer\")\n",
        "else:\n",
        "  print(\"fibonacci sequence:\")\n",
        "  for i in range(nterms):\n",
        "    print(fibo(i))"
      ],
      "metadata": {
        "colab": {
          "base_uri": "https://localhost:8080/"
        },
        "id": "BI9ZcSsTJ4kF",
        "outputId": "1a221d7e-cc87-4085-c1ef-ca5768d68947"
      },
      "execution_count": null,
      "outputs": [
        {
          "output_type": "stream",
          "name": "stdout",
          "text": [
            "num of terms5\n",
            "fibonacci sequence:\n",
            "0\n",
            "1\n",
            "1\n",
            "2\n",
            "3\n"
          ]
        }
      ]
    },
    {
      "cell_type": "code",
      "source": [
        "#prgrm to find the difference between two lists\n",
        "a=[1,2,3,4]\n",
        "b=[1,3,5,2]\n",
        "difference=[]\n",
        "for x in a:\n",
        "  if x not in b:\n",
        "    difference.append(x)\n",
        "print(difference)"
      ],
      "metadata": {
        "colab": {
          "base_uri": "https://localhost:8080/"
        },
        "id": "Q_DkoB0wKmjB",
        "outputId": "e8a1d94a-e22c-4264-9bec-df4fea6be1ac"
      },
      "execution_count": null,
      "outputs": [
        {
          "output_type": "stream",
          "name": "stdout",
          "text": [
            "[4]\n"
          ]
        }
      ]
    },
    {
      "cell_type": "code",
      "source": [
        "#prgrm to generate a num in dict and its square\n",
        "def dicto():\n",
        "      for x in dict:\n",
        "                  dict[x]=x*x\n",
        "      print(dict)\n",
        "dict={1:\"\",2:\"\",3:\"\",4:\"\",5:\"\"}\n",
        "dicto()"
      ],
      "metadata": {
        "colab": {
          "base_uri": "https://localhost:8080/"
        },
        "id": "oDUgwtjzLHz8",
        "outputId": "74e71bc4-301e-4b2a-fbf8-0e5c8d599f45"
      },
      "execution_count": null,
      "outputs": [
        {
          "output_type": "stream",
          "name": "stdout",
          "text": [
            "{1: 1, 2: 4, 3: 9, 4: 16, 5: 25}\n"
          ]
        }
      ]
    },
    {
      "cell_type": "code",
      "source": [
        "#prgrm to print the max and min value in a dict\n",
        "dict={3,1,10,6,0}\n",
        "a=list(dict)\n",
        "a.sort()\n",
        "print(dict)\n",
        "print(\"the max of dict is:\",a[4])\n",
        "print(a)"
      ],
      "metadata": {
        "colab": {
          "base_uri": "https://localhost:8080/"
        },
        "id": "0MtFgQfuLqBz",
        "outputId": "3adb22f1-15ae-4dd5-a077-1fe2b7692614"
      },
      "execution_count": null,
      "outputs": [
        {
          "output_type": "stream",
          "name": "stdout",
          "text": [
            "{0, 1, 3, 6, 10}\n",
            "the max of dict is: 10\n",
            "[0, 1, 3, 6, 10]\n"
          ]
        }
      ]
    },
    {
      "cell_type": "code",
      "source": [
        "#program to find the second minimum number\n",
        "def min():\n",
        "  a=list.sort()\n",
        "  b=len(list)\n",
        "  print(\"second minimum num is:\",list[1])\n",
        "list=['1','5','6','3']\n",
        "min()"
      ],
      "metadata": {
        "colab": {
          "base_uri": "https://localhost:8080/"
        },
        "id": "DJvearblLsMY",
        "outputId": "bc35f9a6-1853-4123-d32a-7fe5c4c8cc13"
      },
      "execution_count": null,
      "outputs": [
        {
          "output_type": "stream",
          "name": "stdout",
          "text": [
            "second minimum num is: 3\n"
          ]
        }
      ]
    },
    {
      "cell_type": "code",
      "source": [
        "#program to print the second maximum number\n",
        "def max():\n",
        "  list.sort(reverse=True)\n",
        "  b=list.copy()\n",
        "  print(\"second maximum num is:\",b[1])\n",
        "list=[5,9,10,1]\n",
        "max()"
      ],
      "metadata": {
        "colab": {
          "base_uri": "https://localhost:8080/"
        },
        "id": "n4KkFB7aMVzw",
        "outputId": "71bc44d5-9367-4338-c38a-a03fdef68b1d"
      },
      "execution_count": null,
      "outputs": [
        {
          "output_type": "stream",
          "name": "stdout",
          "text": [
            "second maximum num is: 9\n"
          ]
        }
      ]
    },
    {
      "cell_type": "code",
      "source": [
        "#Given a list of numbers of list, write a Python program to create a list of tuples\n",
        "#having first element as the number and second element as the square of the\n",
        "#number\n",
        "def values():\n",
        "  result=[(val,val**2)for val in list]\n",
        "  print(result)\n",
        "list=[12,14,8,9]\n",
        "values()"
      ],
      "metadata": {
        "colab": {
          "base_uri": "https://localhost:8080/"
        },
        "id": "8bBXiTsWMfOu",
        "outputId": "8713afbe-32eb-43f0-eba5-2a59af9978ff"
      },
      "execution_count": null,
      "outputs": [
        {
          "output_type": "stream",
          "name": "stdout",
          "text": [
            "[(12, 144), (14, 196), (8, 64), (9, 81)]\n"
          ]
        }
      ]
    },
    {
      "cell_type": "code",
      "source": [
        "#Program to get the maximum and minimum value in a dictionary\n",
        "dict={3,1,10,6,0}\n",
        "a=list(dict)\n",
        "a.sort()\n",
        "print(dict)\n",
        "print(\"the max of dict is:\",a[4])\n",
        "print(a)"
      ],
      "metadata": {
        "colab": {
          "base_uri": "https://localhost:8080/",
          "height": 240
        },
        "id": "cZnIKbImM05J",
        "outputId": "fbdbe6f9-d0be-44bf-ed3f-deb0fdba778c"
      },
      "execution_count": null,
      "outputs": [
        {
          "output_type": "error",
          "ename": "TypeError",
          "evalue": "ignored",
          "traceback": [
            "\u001b[0;31m---------------------------------------------------------------------------\u001b[0m",
            "\u001b[0;31mTypeError\u001b[0m                                 Traceback (most recent call last)",
            "\u001b[0;32m<ipython-input-16-ce588fcef3e6>\u001b[0m in \u001b[0;36m<module>\u001b[0;34m()\u001b[0m\n\u001b[1;32m      1\u001b[0m \u001b[0;31m#Program to get the maximum and minimum value in a dictionary\u001b[0m\u001b[0;34m\u001b[0m\u001b[0;34m\u001b[0m\u001b[0;34m\u001b[0m\u001b[0m\n\u001b[1;32m      2\u001b[0m \u001b[0mdict\u001b[0m\u001b[0;34m=\u001b[0m\u001b[0;34m{\u001b[0m\u001b[0;36m3\u001b[0m\u001b[0;34m,\u001b[0m\u001b[0;36m1\u001b[0m\u001b[0;34m,\u001b[0m\u001b[0;36m10\u001b[0m\u001b[0;34m,\u001b[0m\u001b[0;36m6\u001b[0m\u001b[0;34m,\u001b[0m\u001b[0;36m0\u001b[0m\u001b[0;34m}\u001b[0m\u001b[0;34m\u001b[0m\u001b[0;34m\u001b[0m\u001b[0m\n\u001b[0;32m----> 3\u001b[0;31m \u001b[0ma\u001b[0m\u001b[0;34m=\u001b[0m\u001b[0mlist\u001b[0m\u001b[0;34m(\u001b[0m\u001b[0mdict\u001b[0m\u001b[0;34m)\u001b[0m\u001b[0;34m\u001b[0m\u001b[0;34m\u001b[0m\u001b[0m\n\u001b[0m\u001b[1;32m      4\u001b[0m \u001b[0ma\u001b[0m\u001b[0;34m.\u001b[0m\u001b[0msort\u001b[0m\u001b[0;34m(\u001b[0m\u001b[0;34m)\u001b[0m\u001b[0;34m\u001b[0m\u001b[0;34m\u001b[0m\u001b[0m\n\u001b[1;32m      5\u001b[0m \u001b[0mprint\u001b[0m\u001b[0;34m(\u001b[0m\u001b[0mdict\u001b[0m\u001b[0;34m)\u001b[0m\u001b[0;34m\u001b[0m\u001b[0;34m\u001b[0m\u001b[0m\n",
            "\u001b[0;31mTypeError\u001b[0m: 'list' object is not callable"
          ]
        }
      ]
    },
    {
      "cell_type": "code",
      "source": [
        "### Program to remove a key from a dictionary\n",
        "myDict = {'a':1,'b':2,'c':3,'d':4}\n",
        "print(myDict)\n",
        "if 'a' in myDict:\n",
        "                                                                            del myDict['a']\n",
        "print(myDict)"
      ],
      "metadata": {
        "colab": {
          "base_uri": "https://localhost:8080/"
        },
        "id": "keK-5BR3NVLW",
        "outputId": "21e8b903-b251-49c0-9530-13dea241fcd7"
      },
      "execution_count": null,
      "outputs": [
        {
          "output_type": "stream",
          "name": "stdout",
          "text": [
            "{'a': 1, 'b': 2, 'c': 3, 'd': 4}\n",
            "{'b': 2, 'c': 3, 'd': 4}\n"
          ]
        }
      ]
    },
    {
      "cell_type": "code",
      "source": [
        "#Program to count the number of strings where the string length is 2 or more and\n",
        "def match_words(words):\n",
        "  ctr = 0\n",
        "\n",
        "  for word in words:\n",
        "    if len(word) > 1 and word[0] == word[-1]:\n",
        "      ctr += 1\n",
        "  return ctr\n",
        "\n",
        "print(match_words(['abc', 'xyz', 'aba', '1221']))"
      ],
      "metadata": {
        "id": "utGYknXXN-Hm"
      },
      "execution_count": null,
      "outputs": []
    },
    {
      "cell_type": "code",
      "source": [
        "#Given list of tuples, remove all the tuples with length K. \n",
        "list = [(4, 5), (4, ), (8, 6, 7), (1, ), (3, 4, 6, 7)]\n",
        "b=[]\n",
        "k=2\n",
        "for x in a:\n",
        "      if len(x)!=k:\n",
        "              b.append(x)\n",
        "print(b)"
      ],
      "metadata": {
        "colab": {
          "base_uri": "https://localhost:8080/",
          "height": 240
        },
        "id": "zcI42SfbOKlg",
        "outputId": "38024715-bb37-4920-b19a-2160307064ce"
      },
      "execution_count": null,
      "outputs": [
        {
          "output_type": "error",
          "ename": "TypeError",
          "evalue": "ignored",
          "traceback": [
            "\u001b[0;31m---------------------------------------------------------------------------\u001b[0m",
            "\u001b[0;31mTypeError\u001b[0m                                 Traceback (most recent call last)",
            "\u001b[0;32m<ipython-input-18-edee81e8600e>\u001b[0m in \u001b[0;36m<module>\u001b[0;34m()\u001b[0m\n\u001b[1;32m      4\u001b[0m \u001b[0mk\u001b[0m\u001b[0;34m=\u001b[0m\u001b[0;36m2\u001b[0m\u001b[0;34m\u001b[0m\u001b[0;34m\u001b[0m\u001b[0m\n\u001b[1;32m      5\u001b[0m \u001b[0;32mfor\u001b[0m \u001b[0mx\u001b[0m \u001b[0;32min\u001b[0m \u001b[0ma\u001b[0m\u001b[0;34m:\u001b[0m\u001b[0;34m\u001b[0m\u001b[0;34m\u001b[0m\u001b[0m\n\u001b[0;32m----> 6\u001b[0;31m       \u001b[0;32mif\u001b[0m \u001b[0mlen\u001b[0m\u001b[0;34m(\u001b[0m\u001b[0mx\u001b[0m\u001b[0;34m)\u001b[0m\u001b[0;34m!=\u001b[0m\u001b[0mk\u001b[0m\u001b[0;34m:\u001b[0m\u001b[0;34m\u001b[0m\u001b[0;34m\u001b[0m\u001b[0m\n\u001b[0m\u001b[1;32m      7\u001b[0m               \u001b[0mb\u001b[0m\u001b[0;34m.\u001b[0m\u001b[0mappend\u001b[0m\u001b[0;34m(\u001b[0m\u001b[0mx\u001b[0m\u001b[0;34m)\u001b[0m\u001b[0;34m\u001b[0m\u001b[0;34m\u001b[0m\u001b[0m\n\u001b[1;32m      8\u001b[0m \u001b[0mprint\u001b[0m\u001b[0;34m(\u001b[0m\u001b[0mb\u001b[0m\u001b[0;34m)\u001b[0m\u001b[0;34m\u001b[0m\u001b[0;34m\u001b[0m\u001b[0m\n",
            "\u001b[0;31mTypeError\u001b[0m: object of type 'int' has no len()"
          ]
        }
      ]
    },
    {
      "cell_type": "code",
      "source": [
        "#program to generate and print a dictionary that contains a number(between 1 and n) in the form(x,x*x)\n",
        "a=int(input(\"enter the amount of number's\"))\n",
        "b=dict()\n",
        "for x in range(a):\n",
        "  b[x]=x*x\n",
        "print(b)"
      ],
      "metadata": {
        "id": "p87Wa9N-OUPN",
        "colab": {
          "base_uri": "https://localhost:8080/"
        },
        "outputId": "29c39daf-1e01-4fd4-e9e4-87cffe8765d5"
      },
      "execution_count": null,
      "outputs": [
        {
          "output_type": "stream",
          "name": "stdout",
          "text": [
            "enter the amount of number's5\n",
            "{0: 0, 1: 1, 2: 4, 3: 9, 4: 16}\n"
          ]
        }
      ]
    },
    {
      "cell_type": "code",
      "source": [
        "#program to perform operations on string using unicodes,splitting of string,accessing elements of string using locations\n",
        "a=\"hi hello\"\n",
        "print(a.split())\n",
        "print(a[2:5])"
      ],
      "metadata": {
        "colab": {
          "base_uri": "https://localhost:8080/"
        },
        "id": "U03TAVdSmdAt",
        "outputId": "07619f45-efe6-4038-9a87-daa6dba64ede"
      },
      "execution_count": null,
      "outputs": [
        {
          "output_type": "stream",
          "name": "stdout",
          "text": [
            "['hi', 'hello']\n",
            " he\n"
          ]
        }
      ]
    },
    {
      "cell_type": "code",
      "source": [
        "#program for counting occurance of a certain element in a string,getting indexes that have matching elements\n",
        "a=\"hi,bye,hello\"\n",
        "print(a.count(\"h\"))"
      ],
      "metadata": {
        "colab": {
          "base_uri": "https://localhost:8080/"
        },
        "id": "xaUqJiNQm9cQ",
        "outputId": "5b9784f0-cd14-4ff0-a570-340cc47c9ee9"
      },
      "execution_count": null,
      "outputs": [
        {
          "output_type": "stream",
          "name": "stdout",
          "text": [
            "2\n"
          ]
        }
      ]
    },
    {
      "cell_type": "code",
      "source": [
        "#program for replacing one substring by another \n",
        "a=\"rabbit\"\n",
        "print(a.replace(\"b\",\"c\"))"
      ],
      "metadata": {
        "colab": {
          "base_uri": "https://localhost:8080/"
        },
        "id": "ba7FhsLwnWcw",
        "outputId": "1ed666f6-4d31-4770-bca9-eef58f22c4db"
      },
      "execution_count": null,
      "outputs": [
        {
          "output_type": "stream",
          "name": "stdout",
          "text": [
            "raccit\n"
          ]
        }
      ]
    },
    {
      "cell_type": "code",
      "source": [
        "#program to acronym generator for any user input\n",
        "import random\n",
        "a=input(\"enter the command\")\n",
        "if \"roll\"==a:\n",
        "  for x in range(6):\n",
        "    a=random.randint(1,6)\n",
        "    print(a) \n"
      ],
      "metadata": {
        "colab": {
          "base_uri": "https://localhost:8080/"
        },
        "id": "OYx8D1HCnj53",
        "outputId": "94a00b27-e36a-4579-ef73-efce46862624"
      },
      "execution_count": null,
      "outputs": [
        {
          "output_type": "stream",
          "name": "stdout",
          "text": [
            "enter the commandroll\n",
            "4\n",
            "1\n",
            "4\n",
            "6\n",
            "5\n",
            "4\n"
          ]
        }
      ]
    },
    {
      "cell_type": "code",
      "source": [
        "#python functions that accepts a string and calculates the number of uppercase letters and lowercase letters\n",
        "def string(a):\n",
        "  u=0;l=0\n",
        "  for x in a:\n",
        "    if x.isupper():\n",
        "      u=u+1\n",
        "    else:\n",
        "      l=l+1\n",
        "  print(\"the lower values\",l)\n",
        "  print(\"higher values\",u)\n",
        "string(\"NANdithA\")"
      ],
      "metadata": {
        "colab": {
          "base_uri": "https://localhost:8080/"
        },
        "id": "y_pfySv3oNv7",
        "outputId": "4add63a3-a910-4655-d935-46e978c6e16f"
      },
      "execution_count": null,
      "outputs": [
        {
          "output_type": "stream",
          "name": "stdout",
          "text": [
            "the lower values 4\n",
            "higher values 4\n"
          ]
        }
      ]
    },
    {
      "cell_type": "code",
      "source": [
        "#sample list\n",
        "a=['abc','xyz','aba','1221']\n",
        "c=0\n",
        "for x in a:\n",
        "  if len(x)>=2:\n",
        "    if x[0]==x[-1]:\n",
        "      c=c+1\n",
        "print(\"the string of length 2 is\",c)"
      ],
      "metadata": {
        "colab": {
          "base_uri": "https://localhost:8080/"
        },
        "id": "WK510pC_o7Uy",
        "outputId": "3f4548cd-3bdc-43f4-950c-e047cd2e3716"
      },
      "execution_count": null,
      "outputs": [
        {
          "output_type": "stream",
          "name": "stdout",
          "text": [
            "the string of length 2 is 2\n"
          ]
        }
      ]
    }
  ]
}