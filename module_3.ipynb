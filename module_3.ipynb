{
  "cells": [
    {
      "cell_type": "markdown",
      "metadata": {
        "id": "view-in-github",
        "colab_type": "text"
      },
      "source": [
        "<a href=\"https://colab.research.google.com/github/nanditha00/python-new/blob/MODULE-3/module_3.ipynb\" target=\"_parent\"><img src=\"https://colab.research.google.com/assets/colab-badge.svg\" alt=\"Open In Colab\"/></a>"
      ]
    },
    {
      "cell_type": "code",
      "execution_count": null,
      "id": "fa84e8b2",
      "metadata": {
        "id": "fa84e8b2",
        "outputId": "a9c78cf3-ddc3-4f56-ab37-1ad5e394850a"
      },
      "outputs": [
        {
          "name": "stdout",
          "output_type": "stream",
          "text": [
            "hello all\n",
            "this is nanditha\n",
            "welcome to my world!\n",
            "kindly get lost\n"
          ]
        }
      ],
      "source": [
        "#to read an entire text file\n",
        "f=open(\"C:\\\\Users\\Cloud\\Desktop\\\\nanz.txt\",\"r\")\n",
        "print(f.read())"
      ]
    },
    {
      "cell_type": "code",
      "execution_count": null,
      "id": "ec033028",
      "metadata": {
        "id": "ec033028",
        "outputId": "295335bb-0cad-4183-bc40-a0ec2149fc8e"
      },
      "outputs": [
        {
          "name": "stdout",
          "output_type": "stream",
          "text": [
            "hello a\n"
          ]
        }
      ],
      "source": [
        "#read the first n lines of a file\n",
        "f=open(\"C:\\\\Users\\Cloud\\Desktop\\\\nanz.txt\",\"r\")\n",
        "print(f.readline(7))"
      ]
    },
    {
      "cell_type": "code",
      "execution_count": null,
      "id": "ba78bd16",
      "metadata": {
        "id": "ba78bd16",
        "outputId": "e509aa9a-412b-49ca-eca9-ad154f5feab0"
      },
      "outputs": [
        {
          "name": "stdout",
          "output_type": "stream",
          "text": [
            "hello all\n",
            "this is nanditha\n",
            "welcome to my world!\n",
            "kindly get lost\n",
            "okay\n"
          ]
        }
      ],
      "source": [
        "#append text to a file and display the text.\n",
        "f=open(\"C:\\\\Users\\Cloud\\Desktop\\\\nanz.txt\",\"a\")\n",
        "a=f.write(\"\\nokay\")\n",
        "f.close()\n",
        "f=open(\"C:\\\\Users\\Cloud\\Desktop\\\\nanz.txt\",\"r\")\n",
        "print(f.read())"
      ]
    },
    {
      "cell_type": "code",
      "execution_count": null,
      "id": "58a61d2d",
      "metadata": {
        "id": "58a61d2d",
        "outputId": "d3177b9f-2602-4eed-f5de-419da4dc4bd4",
        "colab": {
          "base_uri": "https://localhost:8080/"
        }
      },
      "outputs": [
        {
          "output_type": "stream",
          "name": "stdout",
          "text": [
            "odd number: 1\n",
            "even number: 2\n",
            "odd number: 3\n",
            "even number: 4\n",
            "odd number: 5\n",
            "even number: 6\n"
          ]
        }
      ],
      "source": [
        "#Read numbers from a file and write even and odd numbers to separate files\n",
        "f=open(\"C:\\\\Users\\Cloud\\Desktop\\\\nums.txt\",\"w\")\n",
        "f.write(\"123456\")\n",
        "f.close()\n",
        "f=open(\"C:\\\\Users\\Cloud\\Desktop\\\\nums.txt\",\"r\")\n",
        "a=(f.read())\n",
        "c=[]\n",
        "for i in a:\n",
        "    c.append(int(i))\n",
        "for x in c:\n",
        "    if x%2==0:\n",
        "        print(\"even number:\",x)\n",
        "    else:\n",
        "        print(\"odd number:\",x)\n"
      ]
    },
    {
      "cell_type": "code",
      "execution_count": null,
      "id": "5fc62082",
      "metadata": {
        "id": "5fc62082",
        "outputId": "809e77eb-9942-48f7-b427-7c8bb554a543"
      },
      "outputs": [
        {
          "name": "stdout",
          "output_type": "stream",
          "text": [
            "['1','2','3','4','5','6']\n"
          ]
        }
      ],
      "source": [
        "#To write a list to a file.\n",
        "f=open(\"C:\\\\Users\\Cloud\\Desktop\\\\nums.txt\",\"w\")\n",
        "f.write(\"['1','2','3','4','5','6']\")\n",
        "f.close()\n",
        "f=open(\"C:\\\\Users\\Cloud\\Desktop\\\\nums.txt\",\"r\")\n",
        "print(f.read())\n",
        "\n"
      ]
    },
    {
      "cell_type": "code",
      "execution_count": null,
      "id": "2c8ccf6f",
      "metadata": {
        "id": "2c8ccf6f",
        "outputId": "2611e2cd-3c71-4b06-86c1-35eb8ae48942"
      },
      "outputs": [
        {
          "name": "stdout",
          "output_type": "stream",
          "text": [
            "   s.no  non-veg         veg  orders\n",
            "0     1  chicken  fried rice      23\n",
            "1     2   mutton      potato      54\n",
            "2     3     fish     brinjal      89\n",
            "3     4   prawns         dal      67\n",
            "4     5  octopus      sambar      56\n",
            "5     6    kabab        rice      12\n",
            "6     7    crabs      sambar      23\n",
            "7     8  chicken     brinjal      34\n",
            "8     9   mutton      potato      78\n",
            "9    10   prawns  fried rice      56\n"
          ]
        }
      ],
      "source": [
        "#Given a CSV file or excel file to read it into a dataframe and display it.\n",
        "import pandas as pd\n",
        "df=pd.read_csv(\"python excel.csv\")\n",
        "a=pd.DataFrame(df)\n",
        "print(a)"
      ]
    },
    {
      "cell_type": "code",
      "execution_count": null,
      "id": "2bbbd94e",
      "metadata": {
        "id": "2bbbd94e",
        "outputId": "ae0515dd-59de-411d-b4cd-ab621d4ec0ae"
      },
      "outputs": [
        {
          "name": "stdout",
          "output_type": "stream",
          "text": [
            "enter any number5\n",
            "s.no           6\n",
            "non-veg    kabab\n",
            "veg         rice\n",
            "orders        12\n",
            "Name: 5, dtype: object\n"
          ]
        }
      ],
      "source": [
        "#Given a dataframe, select rows based on a condition.\n",
        "import pandas as pd\n",
        "df=pd.read_csv(\"python excel.csv\")\n",
        "a=pd.DataFrame(df)\n",
        "b=int(input(\"enter any number\"))\n",
        "print(a.loc[b])\n",
        "            "
      ]
    },
    {
      "cell_type": "code",
      "execution_count": null,
      "id": "b215a573",
      "metadata": {
        "id": "b215a573"
      },
      "outputs": [],
      "source": [
        "#Given is a dataframe showing the name, occupation, salary of people. Find the\n",
        "#average salary per occupation.\n",
        "import pandas as pd\n",
        "df=pd.read_csv(\"python occupaton.csv\")\n",
        "a=pd.DataFrame(df)\n",
        "for x in a:\n"
      ]
    }
  ],
  "metadata": {
    "kernelspec": {
      "display_name": "Python 3 (ipykernel)",
      "language": "python",
      "name": "python3"
    },
    "language_info": {
      "codemirror_mode": {
        "name": "ipython",
        "version": 3
      },
      "file_extension": ".py",
      "mimetype": "text/x-python",
      "name": "python",
      "nbconvert_exporter": "python",
      "pygments_lexer": "ipython3",
      "version": "3.9.7"
    },
    "colab": {
      "name": "module 3.ipynb",
      "provenance": [],
      "collapsed_sections": [],
      "include_colab_link": true
    }
  },
  "nbformat": 4,
  "nbformat_minor": 5
}