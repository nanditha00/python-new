{
  "nbformat": 4,
  "nbformat_minor": 0,
  "metadata": {
    "colab": {
      "name": "practice problems",
      "provenance": [],
      "collapsed_sections": [],
      "authorship_tag": "ABX9TyP7hJ+t1mhr4r5WUJm12inG",
      "include_colab_link": true
    },
    "kernelspec": {
      "name": "python3",
      "display_name": "Python 3"
    },
    "language_info": {
      "name": "python"
    }
  },
  "cells": [
    {
      "cell_type": "markdown",
      "metadata": {
        "id": "view-in-github",
        "colab_type": "text"
      },
      "source": [
        "<a href=\"https://colab.research.google.com/github/nanditha00/python-new/blob/practice-programs/practice_problems.ipynb\" target=\"_parent\"><img src=\"https://colab.research.google.com/assets/colab-badge.svg\" alt=\"Open In Colab\"/></a>"
      ]
    },
    {
      "cell_type": "code",
      "execution_count": null,
      "metadata": {
        "colab": {
          "base_uri": "https://localhost:8080/"
        },
        "id": "uX6whCz2etnL",
        "outputId": "d5919bcd-e2b3-402c-b0c0-016515b17676"
      },
      "outputs": [
        {
          "output_type": "stream",
          "name": "stdout",
          "text": [
            "enter number to verify if its in fib8\n",
            "it is fib number\n"
          ]
        }
      ],
      "source": [
        "#prgrm to check given number is fibonacci or not\n",
        "f1=0;f2=1\n",
        "a=[0,1]\n",
        "for i in range(100):\n",
        "  next=f1+f2\n",
        "  f1=f2\n",
        "  f2=next\n",
        "  a.append(next)\n",
        "find=int(input(\"enter number to verify if its in fib\"))\n",
        "if find in a:\n",
        "          print(\"it is fib number\")\n",
        "else:\n",
        "    print(\"not a fib number\")\n"
      ]
    },
    {
      "cell_type": "code",
      "source": [
        "#to print the prime numbers in the  given range\n",
        "def prime():\n",
        "  for i in range(25,50):\n",
        "        c=0\n",
        "        for x in range(1,i+1):\n",
        "            if i%x==0:\n",
        "              c=c+1\n",
        "        if c<=2:\n",
        "         print(i)\n",
        "prime()\n"
      ],
      "metadata": {
        "colab": {
          "base_uri": "https://localhost:8080/"
        },
        "id": "eXf27nk7e4yT",
        "outputId": "55177c74-9460-4c6c-fe8a-7e75ae1476c5"
      },
      "execution_count": null,
      "outputs": [
        {
          "output_type": "stream",
          "name": "stdout",
          "text": [
            "29\n",
            "31\n",
            "37\n",
            "41\n",
            "43\n",
            "47\n"
          ]
        }
      ]
    },
    {
      "cell_type": "code",
      "source": [
        "#capitalizing the first alpha of every word\n",
        "a=\"hello hi bye\"\n",
        "for x in a.split():\n",
        "    print(x.capitalize())\n"
      ],
      "metadata": {
        "colab": {
          "base_uri": "https://localhost:8080/"
        },
        "id": "-CWoKcYMfAvT",
        "outputId": "8eb765b1-276a-4156-f509-dc7fe3932989"
      },
      "execution_count": null,
      "outputs": [
        {
          "output_type": "stream",
          "name": "stdout",
          "text": [
            "Hello\n",
            "Hi\n",
            "Bye\n"
          ]
        }
      ]
    },
    {
      "cell_type": "code",
      "source": [
        "#prgrm to print only the words with even length\n",
        "a=input(\"enter a string:\")\n",
        "b=a.split()\n",
        "for i in b:\n",
        "  if len(i)%2==0:\n",
        "     print(\"the word has even length\")"
      ],
      "metadata": {
        "colab": {
          "base_uri": "https://localhost:8080/"
        },
        "id": "69rMPJVvfieK",
        "outputId": "b2b9d36e-7c65-4b22-8675-b1a44142d095"
      },
      "execution_count": null,
      "outputs": [
        {
          "output_type": "stream",
          "name": "stdout",
          "text": [
            "enter a string:nanditha\n",
            "the word has even length\n"
          ]
        }
      ]
    },
    {
      "cell_type": "code",
      "source": [
        "#to combine the entered input into a single output\n",
        "L = [11, 33, 50]\n",
        "print(\"Original List: \",L)\n",
        "x = int(\"\".join(map(str, L)))\n",
        "print(\"Single Integer: \",x)"
      ],
      "metadata": {
        "colab": {
          "base_uri": "https://localhost:8080/"
        },
        "id": "aS6Ec5eOgaqb",
        "outputId": "77f82772-5138-46cf-db7c-59a755084fb5"
      },
      "execution_count": null,
      "outputs": [
        {
          "output_type": "stream",
          "name": "stdout",
          "text": [
            "Original List:  [11, 33, 50]\n",
            "Single Integer:  113350\n"
          ]
        }
      ]
    },
    {
      "cell_type": "code",
      "source": [
        "#to tAKE TWO NUMBERS AND IF FIRST NUM IS LESSER THAN SECOND NUM PRINT IN DESC ELSE PRINT IN ASC\n",
        "a=int(input(\"enter any number:\"))\n",
        "b=int(input(\"enter the second number:\"))\n",
        "if a<b:\n",
        "  for i in range(a,b+1):\n",
        "    print(i)\n",
        "else:\n",
        "  for i in range(b,a-1,-1):\n",
        "    print(i)\n",
        "\n",
        "\n",
        "       \n",
        "    \n"
      ],
      "metadata": {
        "colab": {
          "base_uri": "https://localhost:8080/"
        },
        "id": "-iuckoItgvr6",
        "outputId": "49724732-0efe-48bd-a61d-2b2682e6c15f"
      },
      "execution_count": null,
      "outputs": [
        {
          "output_type": "stream",
          "name": "stdout",
          "text": [
            "enter any number:5\n",
            "enter the second number:7\n",
            "5\n",
            "6\n",
            "7\n"
          ]
        }
      ]
    }
  ]
}