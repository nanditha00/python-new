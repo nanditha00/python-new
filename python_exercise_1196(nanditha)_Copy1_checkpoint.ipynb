{
  "cells": [
    {
      "cell_type": "markdown",
      "metadata": {
        "id": "view-in-github",
        "colab_type": "text"
      },
      "source": [
        "<a href=\"https://colab.research.google.com/github/nanditha00/python-new/blob/practice-programs/python_exercise_1196(nanditha)_Copy1_checkpoint.ipynb\" target=\"_parent\"><img src=\"https://colab.research.google.com/assets/colab-badge.svg\" alt=\"Open In Colab\"/></a>"
      ]
    },
    {
      "cell_type": "markdown",
      "id": "a1b451ed",
      "metadata": {
        "id": "a1b451ed"
      },
      "source": [
        "## average of three numbers"
      ]
    },
    {
      "cell_type": "code",
      "execution_count": null,
      "id": "fabe0f71",
      "metadata": {
        "id": "fabe0f71",
        "outputId": "29e3570f-d7f3-4558-dcdb-c3d2d4f437c1"
      },
      "outputs": [
        {
          "name": "stdout",
          "output_type": "stream",
          "text": [
            "20.0\n",
            "<class 'float'>\n"
          ]
        }
      ],
      "source": [
        "a=10;\n",
        "b=20;\n",
        "c=30;\n",
        "avg=(a+b+c)/3;\n",
        "print(avg);\n",
        "print(type(avg));"
      ]
    },
    {
      "cell_type": "code",
      "execution_count": null,
      "id": "411a0f1b",
      "metadata": {
        "id": "411a0f1b",
        "outputId": "c5d6e6e5-5f01-44c2-c7bf-4006c972ecd3"
      },
      "outputs": [
        {
          "name": "stdout",
          "output_type": "stream",
          "text": [
            "enter number:\n"
          ]
        }
      ],
      "source": [
        "print(\"enter number:\")"
      ]
    },
    {
      "cell_type": "markdown",
      "id": "2a3e962c",
      "metadata": {
        "id": "2a3e962c"
      },
      "source": [
        "\n",
        "scan()\n",
        "print(enter number 2:);\n",
        "avg=(number 1+number 2)/2\n",
        "print(type(avg))"
      ]
    },
    {
      "cell_type": "markdown",
      "id": "dc45ad24",
      "metadata": {
        "id": "dc45ad24"
      },
      "source": [
        "## multiplication of two numbers in static"
      ]
    },
    {
      "cell_type": "code",
      "execution_count": null,
      "id": "d9be037a",
      "metadata": {
        "id": "d9be037a",
        "outputId": "ccefcd12-bed3-4a4b-b311-c80f8702ed84"
      },
      "outputs": [
        {
          "name": "stdout",
          "output_type": "stream",
          "text": [
            "28\n",
            "<class 'int'>\n"
          ]
        }
      ],
      "source": [
        "a=4\n",
        "b=7\n",
        "mul=a*b\n",
        "print(mul)\n",
        "print(type(mul))"
      ]
    },
    {
      "cell_type": "markdown",
      "id": "8f54226f",
      "metadata": {
        "id": "8f54226f"
      },
      "source": [
        "## addition of two numbers in dynamic"
      ]
    },
    {
      "cell_type": "code",
      "execution_count": null,
      "id": "3b699a3e",
      "metadata": {
        "id": "3b699a3e",
        "outputId": "580c7eaa-b6e6-4a1c-9560-2c9b4416e113"
      },
      "outputs": [
        {
          "name": "stdout",
          "output_type": "stream",
          "text": [
            "enter the first number10\n",
            "enter the second number2\n",
            "12\n",
            "<class 'int'>\n"
          ]
        }
      ],
      "source": [
        "a=int(input(\"enter the first number\"))\n",
        "b=int(input(\"enter the second number\"))\n",
        "c=a+b\n",
        "print(c)\n",
        "print(type(c))\n"
      ]
    },
    {
      "cell_type": "markdown",
      "id": "f62f1104",
      "metadata": {
        "id": "f62f1104"
      },
      "source": [
        "## multiplication  and division of two numbers in dynamic"
      ]
    },
    {
      "cell_type": "code",
      "execution_count": null,
      "id": "159b1953",
      "metadata": {
        "id": "159b1953",
        "outputId": "49b76536-02a8-489e-97d8-712535f6fe4d"
      },
      "outputs": [
        {
          "name": "stdout",
          "output_type": "stream",
          "text": [
            "enter the first number25\n",
            "enter the second number5\n",
            "125\n",
            "<class 'int'>\n",
            "5.0\n",
            "<class 'float'>\n"
          ]
        }
      ],
      "source": [
        "a=int(input(\"enter the first number\"))\n",
        "b=int(input(\"enter the second number\"))\n",
        "c=a*b\n",
        "d=a/b\n",
        "print(c)\n",
        "print(type(c))\n",
        "print(d)\n",
        "print(type(d))"
      ]
    },
    {
      "cell_type": "markdown",
      "id": "c84621fa",
      "metadata": {
        "id": "c84621fa"
      },
      "source": [
        "## addition of strings"
      ]
    },
    {
      "cell_type": "code",
      "execution_count": null,
      "id": "57211a67",
      "metadata": {
        "id": "57211a67",
        "outputId": "9641bf74-d7de-49b3-f21c-83fa05bd57d6"
      },
      "outputs": [
        {
          "name": "stdout",
          "output_type": "stream",
          "text": [
            "nanditha\n",
            "<class 'str'>\n"
          ]
        }
      ],
      "source": [
        "a=\"nan\"\n",
        "b=\"ditha\"\n",
        "c=a+b\n",
        "print(c)\n",
        "print(type(c))"
      ]
    },
    {
      "cell_type": "markdown",
      "id": "4f28d7b2",
      "metadata": {
        "id": "4f28d7b2"
      },
      "source": [
        "## addition of two strings in dynamic"
      ]
    },
    {
      "cell_type": "code",
      "execution_count": null,
      "id": "af863670",
      "metadata": {
        "id": "af863670",
        "outputId": "6cade46f-1dd6-4f26-dc0a-b3078baf236f"
      },
      "outputs": [
        {
          "name": "stdout",
          "output_type": "stream",
          "text": [
            "enter a stringnan\n",
            "enter another stringditha\n",
            "<class 'str'>\n",
            "nanditha\n"
          ]
        }
      ],
      "source": [
        "a=(input(\"enter a string\"))\n",
        "b=(input(\"enter another string\"))\n",
        "c=a+b\n",
        "print(type(c))\n",
        "print(c)"
      ]
    },
    {
      "cell_type": "markdown",
      "id": "34ab889e",
      "metadata": {
        "id": "34ab889e"
      },
      "source": [
        "## type conversions"
      ]
    },
    {
      "cell_type": "markdown",
      "id": "63abcb30",
      "metadata": {
        "id": "63abcb30"
      },
      "source": [
        "#### converting int to float"
      ]
    },
    {
      "cell_type": "code",
      "execution_count": null,
      "id": "b5752581",
      "metadata": {
        "id": "b5752581",
        "outputId": "9a1e9405-e0ce-4882-94a9-2ad6f06e58b7"
      },
      "outputs": [
        {
          "name": "stdout",
          "output_type": "stream",
          "text": [
            "10.0\n",
            "<class 'float'>\n"
          ]
        }
      ],
      "source": [
        "a=10\n",
        "b=float(a)\n",
        "print(b)\n",
        "print(type(b))"
      ]
    },
    {
      "cell_type": "markdown",
      "id": "9ff243d3",
      "metadata": {
        "id": "9ff243d3"
      },
      "source": [
        "#### converting float to int"
      ]
    },
    {
      "cell_type": "markdown",
      "id": "c48d4984",
      "metadata": {
        "id": "c48d4984"
      },
      "source": [
        ""
      ]
    },
    {
      "cell_type": "code",
      "execution_count": null,
      "id": "dca0e78c",
      "metadata": {
        "id": "dca0e78c",
        "outputId": "eb28fcc3-2ff6-4474-f1f5-a0962aa38e59"
      },
      "outputs": [
        {
          "name": "stdout",
          "output_type": "stream",
          "text": [
            "105\n",
            "<class 'int'>\n"
          ]
        }
      ],
      "source": [
        "a=105.6\n",
        "b=int(a)\n",
        "print(b)\n",
        "print(type(b))"
      ]
    },
    {
      "cell_type": "markdown",
      "id": "ccabb852",
      "metadata": {
        "id": "ccabb852"
      },
      "source": [
        "#### converting int to string"
      ]
    },
    {
      "cell_type": "code",
      "execution_count": null,
      "id": "dc30e02b",
      "metadata": {
        "id": "dc30e02b",
        "outputId": "6d5af09a-9e89-4782-ea62-8041d7beb7b9"
      },
      "outputs": [
        {
          "name": "stdout",
          "output_type": "stream",
          "text": [
            "<class 'str'>\n"
          ]
        }
      ],
      "source": [
        "a=10\n",
        "b=str(a)\n",
        "print(type(b))"
      ]
    },
    {
      "cell_type": "markdown",
      "id": "767d74cb",
      "metadata": {
        "id": "767d74cb"
      },
      "source": [
        "### conversion of string to int is not possible(only when values are given in alphabets)"
      ]
    },
    {
      "cell_type": "markdown",
      "id": "50b88a18",
      "metadata": {
        "id": "50b88a18"
      },
      "source": [
        "## boolean"
      ]
    },
    {
      "cell_type": "code",
      "execution_count": null,
      "id": "814fcc63",
      "metadata": {
        "id": "814fcc63",
        "outputId": "7020f8d7-2660-4435-ecf3-79b16fa928e1"
      },
      "outputs": [
        {
          "name": "stdout",
          "output_type": "stream",
          "text": [
            "False\n"
          ]
        }
      ],
      "source": [
        "a=10\n",
        "b=1\n",
        "c=(bool(a==b))\n",
        "print(c)"
      ]
    },
    {
      "cell_type": "markdown",
      "id": "44778089",
      "metadata": {
        "id": "44778089"
      },
      "source": [
        "## conversion of boolean into int"
      ]
    },
    {
      "cell_type": "code",
      "execution_count": null,
      "id": "4797febb",
      "metadata": {
        "id": "4797febb",
        "outputId": "a1c516aa-f757-4fe0-ccc0-81924e050dc0"
      },
      "outputs": [
        {
          "name": "stdout",
          "output_type": "stream",
          "text": [
            "True\n",
            "1\n"
          ]
        }
      ],
      "source": [
        "a=1\n",
        "b=1\n",
        "c=(a==b)\n",
        "print(c)\n",
        "d=int(c)\n",
        "print(d)"
      ]
    },
    {
      "cell_type": "code",
      "execution_count": null,
      "id": "9759bd00",
      "metadata": {
        "id": "9759bd00",
        "outputId": "2af0fb73-76e3-4a95-a853-b89b5fed356c"
      },
      "outputs": [
        {
          "name": "stdout",
          "output_type": "stream",
          "text": [
            "<class 'bool'>\n",
            "<class 'float'>\n",
            "1.0\n"
          ]
        }
      ],
      "source": [
        "### conversion of boolean to float:\n",
        "a=6\n",
        "b=6\n",
        "c=bool(a==b)\n",
        "print(type(c))\n",
        "d=float(c)\n",
        "print(type(d))\n",
        "print(d)"
      ]
    },
    {
      "cell_type": "markdown",
      "id": "fb7f6308",
      "metadata": {
        "id": "fb7f6308"
      },
      "source": [
        "## conversion of boolean to string"
      ]
    },
    {
      "cell_type": "code",
      "execution_count": null,
      "id": "2dd86950",
      "metadata": {
        "id": "2dd86950",
        "outputId": "867c0ae0-a2bc-423b-8f80-1981f96bf2e6"
      },
      "outputs": [
        {
          "name": "stdout",
          "output_type": "stream",
          "text": [
            "<class 'bool'>\n",
            "True\n"
          ]
        }
      ],
      "source": [
        "a=6\n",
        "b=6\n",
        "c=bool(a==b)\n",
        "print(type(c));print(c)\n"
      ]
    },
    {
      "cell_type": "markdown",
      "id": "07ba3def",
      "metadata": {
        "id": "07ba3def"
      },
      "source": [
        "## conversion of complex to int is not possible"
      ]
    },
    {
      "cell_type": "code",
      "execution_count": null,
      "id": "729ec8d9",
      "metadata": {
        "id": "729ec8d9",
        "outputId": "d0e09e08-8e42-413c-f76c-c741dd2c01c4"
      },
      "outputs": [
        {
          "name": "stdout",
          "output_type": "stream",
          "text": [
            "<class 'complex'>\n"
          ]
        }
      ],
      "source": [
        "a=3+8j\n",
        "print(type(a))\n"
      ]
    },
    {
      "cell_type": "markdown",
      "id": "d3e5274e",
      "metadata": {
        "id": "d3e5274e"
      },
      "source": [
        "## control statements"
      ]
    },
    {
      "cell_type": "code",
      "execution_count": null,
      "id": "6023a310",
      "metadata": {
        "id": "6023a310",
        "outputId": "8014d731-0a45-413e-8ef0-e4fdc1f2a08a"
      },
      "outputs": [
        {
          "name": "stdout",
          "output_type": "stream",
          "text": [
            "eligible for voting\n"
          ]
        }
      ],
      "source": [
        "a=20\n",
        "if a>18:\n",
        "    print(\"eligible for voting\")\n",
        "else:\n",
        "    print(\"not eligible for voting\")"
      ]
    },
    {
      "cell_type": "code",
      "execution_count": null,
      "id": "85ebbf6c",
      "metadata": {
        "id": "85ebbf6c",
        "outputId": "875100b5-31a6-405f-d064-5e1a4a5ee3bb"
      },
      "outputs": [
        {
          "name": "stdout",
          "output_type": "stream",
          "text": [
            "enter your age\t17\n",
            "not eligible for voting\n"
          ]
        }
      ],
      "source": [
        "a=int(input(\"enter your age\\t\"))\n",
        "if(a>18):\n",
        "    print(\"eligible for voting\")\n",
        "else:\n",
        "    print(\"not eligible for voting\")"
      ]
    },
    {
      "cell_type": "code",
      "execution_count": null,
      "id": "2f233257",
      "metadata": {
        "id": "2f233257",
        "outputId": "468cd0c1-7f7b-4a71-843b-6c1cc3411957"
      },
      "outputs": [
        {
          "name": "stdout",
          "output_type": "stream",
          "text": [
            "enter any number5\n",
            "not divisible by 5 and 11\n"
          ]
        }
      ],
      "source": [
        "a=int(input(\"enter any number\"))\n",
        "if(a/5==0):\n",
        "    print(\"the given number is divisible by 5\")\n",
        "else:\n",
        "    print(\"not divisible by 5\")\n",
        "    "
      ]
    },
    {
      "cell_type": "code",
      "execution_count": null,
      "id": "f7bfbcef",
      "metadata": {
        "id": "f7bfbcef",
        "outputId": "c9d5a2c9-472c-4cbd-9ed2-4d4cbace9e36"
      },
      "outputs": [
        {
          "name": "stdout",
          "output_type": "stream",
          "text": [
            "enter any number\t7\n",
            "enter the second number\t8\n",
            "enter the third number\t5\n",
            "b is maximum\n"
          ]
        }
      ],
      "source": [
        "a=int(input(\"enter any number\\t\"))\n",
        "b=int(input(\"enter the second number\\t\"))\n",
        "c=int(input(\"enter the third number\\t\"))\n",
        "if a>b and a>c:\n",
        "    print(\"a is maximum\")\n",
        "elif b>a and b>c:\n",
        "    print(\"b is maximum\")\n",
        "else:\n",
        "    print(\"c is maximum\")"
      ]
    },
    {
      "cell_type": "code",
      "execution_count": null,
      "id": "32ec6ccd",
      "metadata": {
        "id": "32ec6ccd",
        "outputId": "e1e040d0-b28d-43f7-d322-9f895f29f9ef"
      },
      "outputs": [
        {
          "name": "stdout",
          "output_type": "stream",
          "text": [
            "odd numbers are  1\n",
            "even numbers are 2\n",
            "odd numbers are  3\n",
            "even numbers are 4\n",
            "odd numbers are  5\n",
            "even numbers are 6\n",
            "odd numbers are  7\n",
            "even numbers are 8\n",
            "odd numbers are  9\n",
            "even numbers are 10\n",
            "odd numbers are  11\n",
            "even numbers are 12\n",
            "odd numbers are  13\n",
            "even numbers are 14\n",
            "odd numbers are  15\n",
            "even numbers are 16\n",
            "odd numbers are  17\n",
            "even numbers are 18\n",
            "odd numbers are  19\n",
            "even numbers are 20\n",
            "odd numbers are  21\n",
            "even numbers are 22\n",
            "odd numbers are  23\n",
            "even numbers are 24\n",
            "odd numbers are  25\n",
            "even numbers are 26\n",
            "odd numbers are  27\n",
            "even numbers are 28\n",
            "odd numbers are  29\n",
            "even numbers are 30\n",
            "odd numbers are  31\n",
            "even numbers are 32\n",
            "odd numbers are  33\n",
            "even numbers are 34\n",
            "odd numbers are  35\n",
            "even numbers are 36\n",
            "odd numbers are  37\n",
            "even numbers are 38\n",
            "odd numbers are  39\n",
            "even numbers are 40\n",
            "odd numbers are  41\n",
            "even numbers are 42\n",
            "odd numbers are  43\n",
            "even numbers are 44\n",
            "odd numbers are  45\n",
            "even numbers are 46\n",
            "odd numbers are  47\n",
            "even numbers are 48\n",
            "odd numbers are  49\n",
            "even numbers are 50\n",
            "odd numbers are  51\n",
            "even numbers are 52\n",
            "odd numbers are  53\n",
            "even numbers are 54\n",
            "odd numbers are  55\n",
            "even numbers are 56\n",
            "odd numbers are  57\n",
            "even numbers are 58\n",
            "odd numbers are  59\n",
            "even numbers are 60\n",
            "odd numbers are  61\n",
            "even numbers are 62\n",
            "odd numbers are  63\n",
            "even numbers are 64\n",
            "odd numbers are  65\n",
            "even numbers are 66\n",
            "odd numbers are  67\n",
            "even numbers are 68\n",
            "odd numbers are  69\n",
            "even numbers are 70\n",
            "odd numbers are  71\n",
            "even numbers are 72\n",
            "odd numbers are  73\n",
            "even numbers are 74\n",
            "odd numbers are  75\n",
            "even numbers are 76\n",
            "odd numbers are  77\n",
            "even numbers are 78\n",
            "odd numbers are  79\n",
            "even numbers are 80\n",
            "odd numbers are  81\n",
            "even numbers are 82\n",
            "odd numbers are  83\n",
            "even numbers are 84\n",
            "odd numbers are  85\n",
            "even numbers are 86\n",
            "odd numbers are  87\n",
            "even numbers are 88\n",
            "odd numbers are  89\n",
            "even numbers are 90\n",
            "odd numbers are  91\n",
            "even numbers are 92\n",
            "odd numbers are  93\n",
            "even numbers are 94\n",
            "odd numbers are  95\n",
            "even numbers are 96\n",
            "odd numbers are  97\n",
            "even numbers are 98\n",
            "odd numbers are  99\n"
          ]
        }
      ],
      "source": [
        "for i in range(1,100):\n",
        "    if i%2==0:\n",
        "        print(\"even numbers are\",i)\n",
        "    else:\n",
        "        print(\"odd numbers are \",i)\n",
        "    \n"
      ]
    },
    {
      "cell_type": "code",
      "execution_count": null,
      "id": "ac8d382b",
      "metadata": {
        "id": "ac8d382b",
        "outputId": "1335feb1-f79e-4066-fa6f-1015520ffddc"
      },
      "outputs": [
        {
          "name": "stdout",
          "output_type": "stream",
          "text": [
            "enter the first number in the range0\n",
            "enyter the second number in the range35\n",
            "even numbers are 0\n",
            "odd numbers are  1\n",
            "even numbers are 2\n",
            "odd numbers are  3\n",
            "even numbers are 4\n",
            "odd numbers are  5\n",
            "even numbers are 6\n",
            "odd numbers are  7\n",
            "even numbers are 8\n",
            "odd numbers are  9\n",
            "even numbers are 10\n",
            "odd numbers are  11\n",
            "even numbers are 12\n",
            "odd numbers are  13\n",
            "even numbers are 14\n",
            "odd numbers are  15\n",
            "even numbers are 16\n",
            "odd numbers are  17\n",
            "even numbers are 18\n",
            "odd numbers are  19\n",
            "even numbers are 20\n",
            "odd numbers are  21\n",
            "even numbers are 22\n",
            "odd numbers are  23\n",
            "even numbers are 24\n",
            "odd numbers are  25\n",
            "even numbers are 26\n",
            "odd numbers are  27\n",
            "even numbers are 28\n",
            "odd numbers are  29\n",
            "even numbers are 30\n",
            "odd numbers are  31\n",
            "even numbers are 32\n",
            "odd numbers are  33\n",
            "even numbers are 34\n"
          ]
        }
      ],
      "source": [
        "a=int(input(\"enter the first number in the range\"))\n",
        "b=int(input(\"enter the second number in the range\"))\n",
        "for i in range(a,b):\n",
        "    if i%2==0:\n",
        "        print(\"even numbers are\",i)\n",
        "    else:\n",
        "        print(\"odd numbers are \",i)\n"
      ]
    },
    {
      "cell_type": "code",
      "execution_count": null,
      "id": "bb60154a",
      "metadata": {
        "id": "bb60154a",
        "outputId": "5fb46c7c-766d-4d96-85f8-db8f818c100d"
      },
      "outputs": [
        {
          "name": "stdout",
          "output_type": "stream",
          "text": [
            "2\n",
            "4\n",
            "6\n",
            "8\n",
            "10\n",
            "12\n",
            "14\n",
            "16\n",
            "18\n",
            "20\n"
          ]
        }
      ],
      "source": [
        "i=1\n",
        "while i<=10:\n",
        "    print(i*2)\n",
        "    i=i+1"
      ]
    },
    {
      "cell_type": "code",
      "execution_count": null,
      "id": "5178c19b",
      "metadata": {
        "id": "5178c19b",
        "outputId": "6c40944d-ac6b-496b-b372-08a5563c105f"
      },
      "outputs": [
        {
          "name": "stdout",
          "output_type": "stream",
          "text": [
            "enter any year2004\n",
            "the entered year is a leap year\n"
          ]
        }
      ],
      "source": [
        "a=int(input(\"enter any year\"))\n",
        "if a%4==0:\n",
        "    print(\"the entered year is a leap year\")\n",
        "else:\n",
        "    print(\"the entered year is not a leap year\")"
      ]
    },
    {
      "cell_type": "code",
      "execution_count": null,
      "id": "8aaa5cd7",
      "metadata": {
        "id": "8aaa5cd7",
        "outputId": "59919516-575b-4108-f0d6-2b81928701d5"
      },
      "outputs": [
        {
          "name": "stdout",
          "output_type": "stream",
          "text": [
            "enter the first side of the triangle5\n",
            "enter the second side of the triangle6\n",
            "enter the third side of the triangle7\n",
            "scalene triangle\n"
          ]
        }
      ],
      "source": [
        "a=int(input(\"enter the first side of the triangle\"))\n",
        "b=int(input(\"enter the second side of the triangle\"))\n",
        "c=int(input(\"enter the third side of the triangle\"))\n",
        "if(a==b==c):\n",
        "    print(\"equilateral triangle\")\n",
        "elif a==b!=c or a!=b==c or a==c!=b:\n",
        "    print(\"isosceles triangle\")\n",
        "else:\n",
        "    print(\"scalene triangle\")"
      ]
    },
    {
      "cell_type": "code",
      "execution_count": null,
      "id": "2fc20345",
      "metadata": {
        "id": "2fc20345",
        "outputId": "7050dea5-9cd0-496c-f62d-c23710449dd0"
      },
      "outputs": [
        {
          "name": "stdout",
          "output_type": "stream",
          "text": [
            "enter the value of a4\n",
            "enter the value of b5\n",
            "enter the value of c2\n"
          ]
        },
        {
          "ename": "ValueError",
          "evalue": "math domain error",
          "output_type": "error",
          "traceback": [
            "\u001b[1;31m---------------------------------------------------------------------------\u001b[0m",
            "\u001b[1;31mValueError\u001b[0m                                Traceback (most recent call last)",
            "\u001b[1;32m~\\AppData\\Local\\Temp/ipykernel_4508/1464523882.py\u001b[0m in \u001b[0;36m<module>\u001b[1;34m\u001b[0m\n\u001b[0;32m      3\u001b[0m \u001b[0mb\u001b[0m\u001b[1;33m=\u001b[0m\u001b[0mint\u001b[0m\u001b[1;33m(\u001b[0m\u001b[0minput\u001b[0m\u001b[1;33m(\u001b[0m\u001b[1;34m\"enter the value of b\"\u001b[0m\u001b[1;33m)\u001b[0m\u001b[1;33m)\u001b[0m\u001b[1;33m\u001b[0m\u001b[1;33m\u001b[0m\u001b[0m\n\u001b[0;32m      4\u001b[0m \u001b[0mc\u001b[0m\u001b[1;33m=\u001b[0m\u001b[0mint\u001b[0m\u001b[1;33m(\u001b[0m\u001b[0minput\u001b[0m\u001b[1;33m(\u001b[0m\u001b[1;34m\"enter the value of c\"\u001b[0m\u001b[1;33m)\u001b[0m\u001b[1;33m)\u001b[0m\u001b[1;33m\u001b[0m\u001b[1;33m\u001b[0m\u001b[0m\n\u001b[1;32m----> 5\u001b[1;33m \u001b[0mprint\u001b[0m\u001b[1;33m(\u001b[0m\u001b[0mmath\u001b[0m\u001b[1;33m.\u001b[0m\u001b[0msqrt\u001b[0m\u001b[1;33m(\u001b[0m\u001b[0mb\u001b[0m\u001b[1;33m*\u001b[0m\u001b[0mb\u001b[0m\u001b[1;33m-\u001b[0m\u001b[1;33m(\u001b[0m\u001b[1;36m4\u001b[0m\u001b[1;33m*\u001b[0m\u001b[0ma\u001b[0m\u001b[1;33m*\u001b[0m\u001b[0mc\u001b[0m\u001b[1;33m)\u001b[0m\u001b[1;33m)\u001b[0m\u001b[1;33m)\u001b[0m\u001b[1;33m\u001b[0m\u001b[1;33m\u001b[0m\u001b[0m\n\u001b[0m",
            "\u001b[1;31mValueError\u001b[0m: math domain error"
          ]
        }
      ],
      "source": [
        "import math\n",
        "a=int(input(\"enter the value of a\"))\n",
        "b=int(input(\"enter the value of b\"))\n",
        "c=int(input(\"enter the value of c\"))\n",
        "print(b*b-(4*a*c)\n"
      ]
    },
    {
      "cell_type": "code",
      "execution_count": null,
      "id": "95888916",
      "metadata": {
        "id": "95888916",
        "outputId": "f2c88e34-ac9b-4751-a2ff-bdbbed74d20e",
        "colab": {
          "base_uri": "https://localhost:8080/"
        }
      },
      "outputs": [
        {
          "output_type": "stream",
          "name": "stdout",
          "text": [
            "enter the number of rows3\n",
            "enter the number of col2\n",
            "*\n",
            "\n",
            "\n"
          ]
        }
      ],
      "source": [
        "a=int(input(\"enter the number of rows\"))\n",
        "b=int(input(\"enter the number of col\"))\n",
        "for i in range (1,a):\n",
        "    for j in range(i,b):\n",
        "        print(\"*\")\n",
        "        print(\"\\n\")\n"
      ]
    },
    {
      "cell_type": "code",
      "execution_count": null,
      "id": "f088491e",
      "metadata": {
        "id": "f088491e",
        "outputId": "99fbcaf2-69fd-4749-a8e2-90dcc7575b78"
      },
      "outputs": [
        {
          "name": "stdout",
          "output_type": "stream",
          "text": [
            "['orange', 'musk melon', 'apple', 'jackfruit']\n",
            "orange\n",
            "jackfruit\n",
            "apple\n",
            "['orange', 'musk melon', 'apple']\n",
            "['musk melon', 'apple', 'jackfruit']\n",
            "['orange', 'musk melon', 'apple']\n",
            "4\n"
          ]
        }
      ],
      "source": [
        "fruits=[\"orange\",\"musk melon\",\"apple\",\"jackfruit\"]\n",
        "print(fruits)\n",
        "print(fruits[0])  #printing only the first fruit name acc to index values\n",
        "print(fruits[3])\n",
        "print(fruits[-2])  #printing the last second fruit from the list\n",
        "print(fruits[:3])  #prints the fruit names upto 3 positions\n",
        "print(fruits[1:])  #prints \n",
        "print(fruits[0:3]) #starts from index 0 and prints till position 3\n",
        "print(len(fruits))\n"
      ]
    },
    {
      "cell_type": "code",
      "execution_count": null,
      "id": "303d800c",
      "metadata": {
        "id": "303d800c",
        "outputId": "2bd43e79-970d-4d4c-89f0-e15813376bf5"
      },
      "outputs": [
        {
          "name": "stdout",
          "output_type": "stream",
          "text": [
            "['orange', 'musk melon', 'apple', 'jackfruit']\n",
            "['orange', 'musk melon', 'apple', 'jackfruit', 'guava']\n",
            "enter any fruit namegrapes\n",
            "['orange', 'musk melon', 'apple', 'grapes', 'jackfruit', 'guava']\n",
            "['orange', 'apple', 'grapes', 'jackfruit', 'guava']\n",
            "['apple', 'grapes', 'jackfruit', 'guava']\n"
          ]
        }
      ],
      "source": [
        "fruits=[\"orange\",\"musk melon\",\"apple\",\"jackfruit\"]\n",
        "print(fruits)\n",
        "fruits.append(\"guava\")   # adding the fruit name at the end\n",
        "print(fruits)\n",
        "a=input(\"enter any fruit name\")  #entering the fruit name dynamically\n",
        "fruits.insert(3,a)  #inserting the fruit name in a particular position\n",
        "print(fruits)\n",
        "fruits.remove(\"musk melon\")  #removing a fruit name from the list \n",
        "print(fruits)               # to remove an element we can use either remove or pop\n",
        "fruits.pop(0)\n",
        "print(fruits)                             #pop is used to remove index value\n",
        "                             #tuple does not allow duplicate values represented by ()\n",
        "                             #list will allow duplicate values represented by[]\n"
      ]
    },
    {
      "cell_type": "markdown",
      "id": "e9a9aaac",
      "metadata": {
        "id": "e9a9aaac"
      },
      "source": [
        ""
      ]
    },
    {
      "cell_type": "code",
      "execution_count": null,
      "id": "ebca20ea",
      "metadata": {
        "id": "ebca20ea",
        "outputId": "42f39054-7449-4e8e-c0dc-e08045f4d7d1"
      },
      "outputs": [
        {
          "name": "stdout",
          "output_type": "stream",
          "text": [
            "[0, 1, 5, 9]\n",
            "[9, 5, 1, 0]\n",
            "['orange', 'banana', 'apple']\n",
            "['B', 'C', 'f']\n",
            "['f', 'C', 'B']\n"
          ]
        }
      ],
      "source": [
        "num=[9,1,5,0]\n",
        "num.sort()   #arranges the entered numbers in ascending order\n",
        "print(num)\n",
        "num.sort(reverse= True)   #arranges the entered numbers in descending order\n",
        "print(num)\n",
        "fruits=[\"apple\",\"orange\",\"banana\"]\n",
        "fruits.sort(reverse= True)\n",
        "print(fruits)\n",
        "alph=['B','C','f']\n",
        "alph.sort()\n",
        "print(alph)\n",
        "alph.sort(reverse= True)\n",
        "print(alph)"
      ]
    },
    {
      "cell_type": "code",
      "execution_count": null,
      "id": "b29aba07",
      "metadata": {
        "id": "b29aba07"
      },
      "outputs": [],
      "source": [
        ""
      ]
    }
  ],
  "metadata": {
    "kernelspec": {
      "display_name": "Python 3 (ipykernel)",
      "language": "python",
      "name": "python3"
    },
    "language_info": {
      "codemirror_mode": {
        "name": "ipython",
        "version": 3
      },
      "file_extension": ".py",
      "mimetype": "text/x-python",
      "name": "python",
      "nbconvert_exporter": "python",
      "pygments_lexer": "ipython3",
      "version": "3.9.7"
    },
    "colab": {
      "name": "python exercise 1196(nanditha)-Copy1-checkpoint.ipynb",
      "provenance": [],
      "collapsed_sections": [],
      "include_colab_link": true
    }
  },
  "nbformat": 4,
  "nbformat_minor": 5
}