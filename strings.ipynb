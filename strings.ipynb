{
  "nbformat": 4,
  "nbformat_minor": 0,
  "metadata": {
    "colab": {
      "name": "strings",
      "provenance": [],
      "collapsed_sections": [],
      "authorship_tag": "ABX9TyM7r952avWVZYdw1OkhH9Jn",
      "include_colab_link": true
    },
    "kernelspec": {
      "name": "python3",
      "display_name": "Python 3"
    },
    "language_info": {
      "name": "python"
    }
  },
  "cells": [
    {
      "cell_type": "markdown",
      "metadata": {
        "id": "view-in-github",
        "colab_type": "text"
      },
      "source": [
        "<a href=\"https://colab.research.google.com/github/nanditha00/python-new/blob/practice-programs/strings.ipynb\" target=\"_parent\"><img src=\"https://colab.research.google.com/assets/colab-badge.svg\" alt=\"Open In Colab\"/></a>"
      ]
    },
    {
      "cell_type": "code",
      "execution_count": null,
      "metadata": {
        "colab": {
          "base_uri": "https://localhost:8080/"
        },
        "id": "8wKsoLBIYXnt",
        "outputId": "13d6393a-2ed6-472d-c4a9-d185aada13bb"
      },
      "outputs": [
        {
          "output_type": "stream",
          "name": "stdout",
          "text": [
            "NANDU\n",
            "nandu\n"
          ]
        }
      ],
      "source": [
        "## upper to lower and vice versa\n",
        "a=\"nandu\"\n",
        "print(a.upper())\n",
        "b=\"NANDU\"\n",
        "print(b.lower()) "
      ]
    },
    {
      "cell_type": "code",
      "source": [
        "##slicing\n",
        "a=\"nanditha patnaik\"\n",
        "print(a[1:4])"
      ],
      "metadata": {
        "colab": {
          "base_uri": "https://localhost:8080/"
        },
        "id": "qPQ2f2sVYpf7",
        "outputId": "df0e7c79-13b5-4ef9-d5c7-56431b3929f1"
      },
      "execution_count": null,
      "outputs": [
        {
          "output_type": "stream",
          "name": "stdout",
          "text": [
            "and\n"
          ]
        }
      ]
    },
    {
      "cell_type": "code",
      "source": [
        "##strip(to remove the spaces at the beginning)\n",
        "a=\"   nanditha patnaik\"\n",
        "print(a.strip())\n",
        "b=\"dobby brown  \"\n",
        "print(b.strip())"
      ],
      "metadata": {
        "colab": {
          "base_uri": "https://localhost:8080/"
        },
        "id": "iFg1Bs--ZHXH",
        "outputId": "7c4da7b9-c724-48fa-e793-360e4bf71e31"
      },
      "execution_count": null,
      "outputs": [
        {
          "output_type": "stream",
          "name": "stdout",
          "text": [
            "nanditha patnaik\n",
            "dobby brown\n"
          ]
        }
      ]
    },
    {
      "cell_type": "code",
      "source": [
        "##replacing the alphabets\n",
        "a=\"dobby\"\n",
        "print(a.replace(\"y\",\"ie\"))"
      ],
      "metadata": {
        "colab": {
          "base_uri": "https://localhost:8080/"
        },
        "id": "7MlbooPsZdXy",
        "outputId": "9e7f54fc-91ed-4bbc-a436-3209d1893b1f"
      },
      "execution_count": null,
      "outputs": [
        {
          "output_type": "stream",
          "name": "stdout",
          "text": [
            "dobbie\n"
          ]
        }
      ]
    },
    {
      "cell_type": "code",
      "source": [
        "##split to seperate two words or sentences\n",
        "a=\"watermelon sugar\"\n",
        "print(a.split())"
      ],
      "metadata": {
        "colab": {
          "base_uri": "https://localhost:8080/"
        },
        "id": "QKVECqmJZw8y",
        "outputId": "9189c3e0-807b-4f0d-b521-d568e1e5bf67"
      },
      "execution_count": null,
      "outputs": [
        {
          "output_type": "stream",
          "name": "stdout",
          "text": [
            "['watermelon', 'sugar']\n"
          ]
        }
      ]
    },
    {
      "cell_type": "code",
      "source": [
        "##merging two strings\n",
        "a=\"nandu\"\n",
        "b=\"dobby\"\n",
        "c=\"chandu\"\n",
        "d=a+\" \"+b+\" \"+c\n",
        "print(d)\n",
        "print(d.split())"
      ],
      "metadata": {
        "colab": {
          "base_uri": "https://localhost:8080/"
        },
        "id": "h7D_T_5Ca98S",
        "outputId": "e6aeabe3-d84d-427d-a49b-b862209adc49"
      },
      "execution_count": null,
      "outputs": [
        {
          "output_type": "stream",
          "name": "stdout",
          "text": [
            "nandu dobby chandu\n",
            "['nandu', 'dobby', 'chandu']\n"
          ]
        }
      ]
    },
    {
      "cell_type": "code",
      "source": [
        "##format(to combine a string and an integer)\n",
        "age='17'\n",
        "name=\"nanditha  {}\"\n",
        "print(name.format(age))"
      ],
      "metadata": {
        "colab": {
          "base_uri": "https://localhost:8080/"
        },
        "id": "iS2yHv1KbyOC",
        "outputId": "17e0c882-8936-42b3-d155-cc7f6da82dba"
      },
      "execution_count": null,
      "outputs": [
        {
          "output_type": "stream",
          "name": "stdout",
          "text": [
            "nanditha  17\n"
          ]
        }
      ]
    },
    {
      "cell_type": "code",
      "source": [
        "##format in dynamic\n",
        "notebook=int(input(\"enter the number of notebooks\"))\n",
        "print(notebook)\n",
        "pens=int(input(\"enter the number of pens\"))\n",
        "print(pens)\n",
        "chocolates='7'\n",
        "mylist=\"i want {} notebooks ,{} pens and {} chocolates\"\n",
        "print(mylist.format(notebook,pens,chocolates))"
      ],
      "metadata": {
        "colab": {
          "base_uri": "https://localhost:8080/"
        },
        "id": "kvvAYijrea8D",
        "outputId": "775cdd62-8678-455d-8cc4-c37977988f5a"
      },
      "execution_count": null,
      "outputs": [
        {
          "output_type": "stream",
          "name": "stdout",
          "text": [
            "enter the number of notebooks5\n",
            "5\n",
            "enter the number of pens7\n",
            "7\n",
            "i want 5 notebooks ,7 pens and 7 chocolates\n"
          ]
        }
      ]
    },
    {
      "cell_type": "code",
      "source": [
        "##format by giving index values\n",
        "price='90'\n",
        "name=\"hot chocolate\"\n",
        "statement=\"i want {1} of price {0}\"\n",
        "print(statement.format(price,name))\n",
        "\n"
      ],
      "metadata": {
        "colab": {
          "base_uri": "https://localhost:8080/"
        },
        "id": "x3bsmvHefWxz",
        "outputId": "d24e1b7a-14e9-440d-e877-4eee187e70a2"
      },
      "execution_count": null,
      "outputs": [
        {
          "output_type": "stream",
          "name": "stdout",
          "text": [
            "i want hot chocolate of price 90\n"
          ]
        }
      ]
    },
    {
      "cell_type": "code",
      "source": [
        "##escape characters\n",
        "a=\"nandu 'hello' \"\n",
        "print(a)"
      ],
      "metadata": {
        "colab": {
          "base_uri": "https://localhost:8080/"
        },
        "id": "wfie86oykbX6",
        "outputId": "cf823d4a-8f2f-42ea-e99a-32264d3b4341"
      },
      "execution_count": null,
      "outputs": [
        {
          "output_type": "stream",
          "name": "stdout",
          "text": [
            "nandu 'hello' \n"
          ]
        }
      ]
    },
    {
      "cell_type": "code",
      "source": [
        "a=\"dobby\\nnandu\"\n",
        "print(a)\n",
        "b=\"dobby\\tnandu\"\n",
        "print(b)\n",
        "c=\"dobbyy\\b\"\n",
        "print(c)"
      ],
      "metadata": {
        "colab": {
          "base_uri": "https://localhost:8080/"
        },
        "id": "vXUjXLpNl3LS",
        "outputId": "014dbe65-0fb2-4520-8abc-e8a75e5555c7"
      },
      "execution_count": null,
      "outputs": [
        {
          "output_type": "stream",
          "name": "stdout",
          "text": [
            "dobby\n",
            "nandu\n",
            "dobby\tnandu\n",
            "dobbyy\b\n"
          ]
        }
      ]
    },
    {
      "cell_type": "code",
      "source": [
        "a=\"nandu\"\n",
        "b=a.capitalize()\n",
        "print(b)\n",
        "c=\"Dobby\"\n",
        "d=c.casefold()\n",
        "print(d)\n",
        "print(d.center(158))"
      ],
      "metadata": {
        "colab": {
          "base_uri": "https://localhost:8080/"
        },
        "id": "18PQGV-Vm2Jy",
        "outputId": "060e99eb-1759-4902-9db2-73bf6483e34e"
      },
      "execution_count": null,
      "outputs": [
        {
          "output_type": "stream",
          "name": "stdout",
          "text": [
            "Nandu\n",
            "dobby\n",
            "                                                                            dobby                                                                             \n"
          ]
        }
      ]
    },
    {
      "cell_type": "code",
      "source": [
        "#count\n",
        "a=\"hello world welcome to my world\"\n",
        "print(a.count(\"d\"))"
      ],
      "metadata": {
        "colab": {
          "base_uri": "https://localhost:8080/"
        },
        "id": "FtGozsxBrG06",
        "outputId": "90226828-55a7-4cbc-abdd-51743a2a58dd"
      },
      "execution_count": null,
      "outputs": [
        {
          "output_type": "stream",
          "name": "stdout",
          "text": [
            "2\n"
          ]
        }
      ]
    },
    {
      "cell_type": "code",
      "source": [
        "stat=\"rrr has been released\"\n",
        "for rrr in stat"
      ],
      "metadata": {
        "id": "ise2G55asIWC",
        "colab": {
          "base_uri": "https://localhost:8080/",
          "height": 130
        },
        "outputId": "2ed693cd-90b6-4f70-cde9-5c26dd5067bf"
      },
      "execution_count": null,
      "outputs": [
        {
          "output_type": "error",
          "ename": "SyntaxError",
          "evalue": "ignored",
          "traceback": [
            "\u001b[0;36m  File \u001b[0;32m\"<ipython-input-3-f37c43f8fecc>\"\u001b[0;36m, line \u001b[0;32m2\u001b[0m\n\u001b[0;31m    for rrr in stat\u001b[0m\n\u001b[0m                   ^\u001b[0m\n\u001b[0;31mSyntaxError\u001b[0m\u001b[0;31m:\u001b[0m invalid syntax\n"
          ]
        }
      ]
    }
  ]
}