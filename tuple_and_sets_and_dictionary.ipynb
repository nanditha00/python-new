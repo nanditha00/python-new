{
  "nbformat": 4,
  "nbformat_minor": 0,
  "metadata": {
    "colab": {
      "name": "tuple and sets and dictionary",
      "provenance": [],
      "collapsed_sections": [],
      "authorship_tag": "ABX9TyPDW6uyl0lxf2PcmL7Naq2c",
      "include_colab_link": true
    },
    "kernelspec": {
      "name": "python3",
      "display_name": "Python 3"
    },
    "language_info": {
      "name": "python"
    }
  },
  "cells": [
    {
      "cell_type": "markdown",
      "metadata": {
        "id": "view-in-github",
        "colab_type": "text"
      },
      "source": [
        "<a href=\"https://colab.research.google.com/github/nanditha00/python-new/blob/practice-programs/tuple_and_sets_and_dictionary.ipynb\" target=\"_parent\"><img src=\"https://colab.research.google.com/assets/colab-badge.svg\" alt=\"Open In Colab\"/></a>"
      ]
    },
    {
      "cell_type": "code",
      "execution_count": null,
      "metadata": {
        "colab": {
          "base_uri": "https://localhost:8080/"
        },
        "id": "pk03Rn40vqZ0",
        "outputId": "a267680c-a7e3-441d-b876-60a6b7e71f19"
      },
      "outputs": [
        {
          "output_type": "stream",
          "name": "stdout",
          "text": [
            "['apple', 'mango', 'pineapple']\n"
          ]
        }
      ],
      "source": [
        "tuple=(\"apple\",\"mango\",\"pineapple\")\n",
        "b=list(tuple)\n",
        "print(b)"
      ]
    },
    {
      "cell_type": "code",
      "source": [
        "a=(\"apple\",)\n",
        "print(type(a))"
      ],
      "metadata": {
        "colab": {
          "base_uri": "https://localhost:8080/"
        },
        "id": "AntR-Aduwoyj",
        "outputId": "16188cee-47f3-4998-81ae-5fd3ad66da6a"
      },
      "execution_count": null,
      "outputs": [
        {
          "output_type": "stream",
          "name": "stdout",
          "text": [
            "<class 'tuple'>\n"
          ]
        }
      ]
    },
    {
      "cell_type": "code",
      "source": [
        "a=(\"abc\",123,True,False)\n",
        "print(type(a))"
      ],
      "metadata": {
        "colab": {
          "base_uri": "https://localhost:8080/"
        },
        "id": "pHSJ7mqrwyxL",
        "outputId": "4effcc10-cad1-45c2-c7b8-ade32d1f23df"
      },
      "execution_count": null,
      "outputs": [
        {
          "output_type": "stream",
          "name": "stdout",
          "text": [
            "<class 'tuple'>\n"
          ]
        }
      ]
    },
    {
      "cell_type": "code",
      "source": [
        "a=(\"fruits\",\"veggies\",\"greens\")\n",
        "print(a[2])\n",
        "print(type(a))"
      ],
      "metadata": {
        "colab": {
          "base_uri": "https://localhost:8080/"
        },
        "id": "YZ_vdVyAxL9C",
        "outputId": "aaab752b-6cf2-4b6d-ceed-afc714220c10"
      },
      "execution_count": null,
      "outputs": [
        {
          "output_type": "stream",
          "name": "stdout",
          "text": [
            "greens\n",
            "<class 'tuple'>\n"
          ]
        }
      ]
    },
    {
      "cell_type": "code",
      "source": [
        "a=(\"mango\",\"guava\",\"apple\",\"banana\")\n",
        "print(a)\n",
        "print(a[1:3])"
      ],
      "metadata": {
        "colab": {
          "base_uri": "https://localhost:8080/"
        },
        "id": "v6CFVpeZxdrx",
        "outputId": "4751f574-efdd-4c23-d627-970e7054e567"
      },
      "execution_count": null,
      "outputs": [
        {
          "output_type": "stream",
          "name": "stdout",
          "text": [
            "('mango', 'guava', 'apple', 'banana')\n",
            "('guava', 'apple')\n"
          ]
        }
      ]
    },
    {
      "cell_type": "code",
      "source": [
        "a=(\"maths\",\"physics\",\"chemistry\",\"social\")\n",
        "b=list(a)\n",
        "print(b)\n",
        "b[1]=\"history\"\n",
        "print(b)"
      ],
      "metadata": {
        "colab": {
          "base_uri": "https://localhost:8080/"
        },
        "id": "vIk0hySqx3pB",
        "outputId": "dfadb70a-38cf-401f-80cd-dde4864610d4"
      },
      "execution_count": null,
      "outputs": [
        {
          "output_type": "stream",
          "name": "stdout",
          "text": [
            "['maths', 'physics', 'chemistry', 'social']\n",
            "['maths', 'history', 'chemistry', 'social']\n"
          ]
        }
      ]
    },
    {
      "cell_type": "code",
      "source": [
        "a=(\"jackfruit\",\"mangoes\",\"apples\",\"banana\",\"guava\")\n",
        "b=list(a)\n",
        "b.append(\"orange\")\n",
        "print(b)\n"
      ],
      "metadata": {
        "colab": {
          "base_uri": "https://localhost:8080/"
        },
        "id": "6hVFvVYGyUDp",
        "outputId": "e47f3d75-cdb0-446e-d241-b22e1060fff4"
      },
      "execution_count": null,
      "outputs": [
        {
          "output_type": "stream",
          "name": "stdout",
          "text": [
            "['jackfruit', 'mangoes', 'apples', 'banana', 'guava', 'orange']\n"
          ]
        }
      ]
    },
    {
      "cell_type": "code",
      "source": [
        "a=(\"jackfruit\",\"mangoes\",\"apples\",\"banana\",\"guava\")\n",
        "for i in range(len(a)):\n",
        "                     print(i)"
      ],
      "metadata": {
        "colab": {
          "base_uri": "https://localhost:8080/"
        },
        "id": "bAJg4BIxy806",
        "outputId": "7bf6e18e-6a15-448d-d41d-e4ab99ddb132"
      },
      "execution_count": null,
      "outputs": [
        {
          "output_type": "stream",
          "name": "stdout",
          "text": [
            "0\n",
            "1\n",
            "2\n",
            "3\n",
            "4\n"
          ]
        }
      ]
    },
    {
      "cell_type": "code",
      "source": [
        "a=(\"jackfruit\",\"mangoes\",\"apples\",\"banana\",\"guava\")\n",
        "b=(1,4,5,6,7)\n",
        "c=a+b\n",
        "print(c)\n",
        "print(type(c))"
      ],
      "metadata": {
        "colab": {
          "base_uri": "https://localhost:8080/"
        },
        "id": "-QS5LiYizq2Y",
        "outputId": "96e8dd41-bf2c-4014-b417-d63f3cec3b75"
      },
      "execution_count": null,
      "outputs": [
        {
          "output_type": "stream",
          "name": "stdout",
          "text": [
            "('jackfruit', 'mangoes', 'apples', 'banana', 'guava', 1, 4, 5, 6, 7)\n",
            "<class 'tuple'>\n"
          ]
        }
      ]
    },
    {
      "cell_type": "code",
      "source": [
        "a=(\"jackfruit\",\"mangoes\",\"apples\",\"banana\",\"guava\")\n",
        "b=a*2\n",
        "print(b)"
      ],
      "metadata": {
        "colab": {
          "base_uri": "https://localhost:8080/"
        },
        "id": "qUL1IKVVz2aR",
        "outputId": "307e88b5-2f0a-4cb0-c5da-752792ba1292"
      },
      "execution_count": null,
      "outputs": [
        {
          "output_type": "stream",
          "name": "stdout",
          "text": [
            "('jackfruit', 'mangoes', 'apples', 'banana', 'guava', 'jackfruit', 'mangoes', 'apples', 'banana', 'guava')\n"
          ]
        }
      ]
    },
    {
      "cell_type": "code",
      "source": [
        "a=('jackfruit', 'mangoes', 'apples', 'banana', 'guava', 'jackfruit', 'mangoes', 'apples', 'banana', 'guava')\n",
        "b=a.count('guava')\n",
        "print(b)\n",
        "print(type(b))"
      ],
      "metadata": {
        "colab": {
          "base_uri": "https://localhost:8080/"
        },
        "id": "AGPrY06Q0LrQ",
        "outputId": "be8c8b31-6a6d-4b5d-d0d9-9ebf7144c4b5"
      },
      "execution_count": null,
      "outputs": [
        {
          "output_type": "stream",
          "name": "stdout",
          "text": [
            "2\n",
            "<class 'int'>\n"
          ]
        }
      ]
    },
    {
      "cell_type": "code",
      "source": [
        "##sets"
      ],
      "metadata": {
        "id": "UpdzOKx01sH5"
      },
      "execution_count": null,
      "outputs": []
    },
    {
      "cell_type": "code",
      "source": [
        "a={\"apple\",\"mango\",\"jackfruit\",\"pineapple\"}\n",
        "print(a)"
      ],
      "metadata": {
        "colab": {
          "base_uri": "https://localhost:8080/"
        },
        "id": "Tsj1OZXeA-CJ",
        "outputId": "e35e60ab-c00e-4053-d67b-316e28499fb7"
      },
      "execution_count": null,
      "outputs": [
        {
          "output_type": "stream",
          "name": "stdout",
          "text": [
            "{'apple', 'mango', 'pineapple', 'jackfruit'}\n"
          ]
        }
      ]
    },
    {
      "cell_type": "code",
      "source": [
        "a={\"apple\",\"apple\",\"mango\"}\n",
        "print(a)"
      ],
      "metadata": {
        "colab": {
          "base_uri": "https://localhost:8080/"
        },
        "id": "yIcltCDXBPEu",
        "outputId": "73721606-262a-4c0a-e4b7-bcc0742ab1c4"
      },
      "execution_count": null,
      "outputs": [
        {
          "output_type": "stream",
          "name": "stdout",
          "text": [
            "{'apple', 'mango'}\n"
          ]
        }
      ]
    },
    {
      "cell_type": "code",
      "source": [
        "#to print the length of the a\n",
        "a={\"apple\",\"mango\",\"banana\"}\n",
        "print(len(a))"
      ],
      "metadata": {
        "colab": {
          "base_uri": "https://localhost:8080/"
        },
        "id": "pQcsfxjTBYY-",
        "outputId": "603d4a61-75ac-40f1-c010-f0261ce052e8"
      },
      "execution_count": null,
      "outputs": [
        {
          "output_type": "stream",
          "name": "stdout",
          "text": [
            "3\n"
          ]
        }
      ]
    },
    {
      "cell_type": "code",
      "source": [
        "#to print the type of the given statement (a)\n",
        "a={\"apple\",\"mango\",\"guava\"}\n",
        "print(type(a))"
      ],
      "metadata": {
        "colab": {
          "base_uri": "https://localhost:8080/"
        },
        "id": "cpR0WzJ0Bgg2",
        "outputId": "7b00bb7e-faff-493f-e4e3-23a0a0480a55"
      },
      "execution_count": null,
      "outputs": [
        {
          "output_type": "stream",
          "name": "stdout",
          "text": [
            "<class 'set'>\n"
          ]
        }
      ]
    },
    {
      "cell_type": "code",
      "source": [
        "#to add elememnts to the set a\n",
        "a={\"apple\",\"mango\",\"guava\"}\n",
        "a.add(\"grapes\")\n",
        "print(a)"
      ],
      "metadata": {
        "id": "nQNTijUBCQOP",
        "colab": {
          "base_uri": "https://localhost:8080/"
        },
        "outputId": "dccf4ec9-1ba6-48cd-c8a9-1513c5d3f8c1"
      },
      "execution_count": null,
      "outputs": [
        {
          "output_type": "stream",
          "name": "stdout",
          "text": [
            "{'apple', 'guava', 'grapes', 'mango'}\n"
          ]
        }
      ]
    },
    {
      "cell_type": "code",
      "source": [
        "#to combine both the sets\n",
        "a={\"apple\",\"mango\",\"guava\"}\n",
        "b={\"cadbury\",\"kitkat\",\"snickers\"}\n",
        "a.update(b)\n",
        "print(a)"
      ],
      "metadata": {
        "colab": {
          "base_uri": "https://localhost:8080/"
        },
        "id": "bix9vCFQKSZl",
        "outputId": "b8647d38-b36c-4564-eb48-e3c28f76f76a"
      },
      "execution_count": null,
      "outputs": [
        {
          "output_type": "stream",
          "name": "stdout",
          "text": [
            "{'guava', 'snickers', 'kitkat', 'mango', 'apple', 'cadbury'}\n"
          ]
        }
      ]
    },
    {
      "cell_type": "code",
      "source": [
        "#to delete a single element\n",
        "a={\"apple\",\"mango\",\"orange\"}\n",
        "a.discard(\"apple\")\n",
        "print(a)"
      ],
      "metadata": {
        "colab": {
          "base_uri": "https://localhost:8080/"
        },
        "id": "grY4z7GIKtPM",
        "outputId": "5550d337-f7b4-4d74-ec2a-dd8bcdccf057"
      },
      "execution_count": null,
      "outputs": [
        {
          "output_type": "stream",
          "name": "stdout",
          "text": [
            "{'orange', 'mango'}\n"
          ]
        }
      ]
    },
    {
      "cell_type": "code",
      "source": [
        "del----this keyword will delete the set completely"
      ],
      "metadata": {
        "id": "b7SRZcPVK_aM"
      },
      "execution_count": null,
      "outputs": []
    },
    {
      "cell_type": "code",
      "source": [
        "#wrong prgrm\n",
        "a={\"apple\",\"mango\",\"guava\"}\n",
        "b={\"cadbury\",\"kitkat\",\"snickers\",\"apple\"}\n",
        "a.update(b)\n",
        "print(a)\n",
        "c = a.intersection(b)\n",
        "print(c)\n",
        "##wrong"
      ],
      "metadata": {
        "colab": {
          "base_uri": "https://localhost:8080/"
        },
        "id": "rj6hkVNwLJgU",
        "outputId": "95b395a7-febf-421e-a38e-12068b555544"
      },
      "execution_count": null,
      "outputs": [
        {
          "output_type": "stream",
          "name": "stdout",
          "text": [
            "{'guava', 'snickers', 'kitkat', 'mango', 'apple', 'cadbury'}\n",
            "{'apple', 'snickers', 'kitkat', 'cadbury'}\n"
          ]
        }
      ]
    },
    {
      "cell_type": "code",
      "source": [
        "#to print the elements in a\n",
        "a={\"apple\",\"mango\",\"orange\"}\n",
        "for x in a:\n",
        "  print(x)\n"
      ],
      "metadata": {
        "colab": {
          "base_uri": "https://localhost:8080/"
        },
        "id": "6EZzjTIuNhfl",
        "outputId": "4f6449c2-5f30-4f4f-fe13-c82d6e08f1d6"
      },
      "execution_count": null,
      "outputs": [
        {
          "output_type": "stream",
          "name": "stdout",
          "text": [
            "apple\n",
            "orange\n",
            "mango\n"
          ]
        }
      ]
    },
    {
      "cell_type": "code",
      "source": [
        "#union\n",
        "a={'a','b','c'}\n",
        "b={1,2,3,4}\n",
        "c=a.union(b)\n",
        "print(c)"
      ],
      "metadata": {
        "colab": {
          "base_uri": "https://localhost:8080/"
        },
        "id": "jLfMQhBhN0Gt",
        "outputId": "7cb7581a-c4bf-42f7-f9b4-5b66e9c024c4"
      },
      "execution_count": null,
      "outputs": [
        {
          "output_type": "stream",
          "name": "stdout",
          "text": [
            "{1, 'c', 2, 'a', 3, 4, 'b'}\n"
          ]
        }
      ]
    },
    {
      "cell_type": "code",
      "source": [
        "#intersection update\n",
        "a={\"apple\",\"mango\",\"orange\",\"guava\"}\n",
        "b={\"kitkat\",\"snickers\",\"milkybar\",\"apple\"}\n",
        "a.intersection_update(b)\n",
        "print(a)"
      ],
      "metadata": {
        "colab": {
          "base_uri": "https://localhost:8080/"
        },
        "id": "G6wzVGvbOBJz",
        "outputId": "5abde66f-3b5e-4d2d-cbc4-61fa6d054812"
      },
      "execution_count": null,
      "outputs": [
        {
          "output_type": "stream",
          "name": "stdout",
          "text": [
            "{'apple'}\n"
          ]
        }
      ]
    },
    {
      "cell_type": "code",
      "source": [
        "#symmetric difference update will keep only the elements that are not present in the list\n",
        "a={\"apple\",\"mango\",\"orange\"}\n",
        "b={\"kitkat\",\"snickers\",\"milkybar\",\"apple\",\"mango\",\"orange\"}\n",
        "a.symmetric_difference_update(b)\n",
        "print(a)"
      ],
      "metadata": {
        "colab": {
          "base_uri": "https://localhost:8080/"
        },
        "id": "xK9cA_iAQNzX",
        "outputId": "6e2abaaa-4ce7-4dc7-c426-47d66be77ade"
      },
      "execution_count": null,
      "outputs": [
        {
          "output_type": "stream",
          "name": "stdout",
          "text": [
            "{'kitkat', 'milkybar', 'snickers'}\n"
          ]
        }
      ]
    },
    {
      "cell_type": "code",
      "source": [
        "#using copy to return a copy of the entered set\n",
        "b={\"kitkat\",\"snickers\",\"milkybar\",\"apple\"}\n",
        "c=b.copy()\n",
        "print(c)"
      ],
      "metadata": {
        "colab": {
          "base_uri": "https://localhost:8080/"
        },
        "id": "DM3op0FmSrSk",
        "outputId": "dfff67b5-8fb4-40f4-b6a7-af5610361a1e"
      },
      "execution_count": null,
      "outputs": [
        {
          "output_type": "stream",
          "name": "stdout",
          "text": [
            "{'milkybar', 'apple', 'snickers', 'kitkat'}\n"
          ]
        }
      ]
    },
    {
      "cell_type": "code",
      "source": [
        "#dictionaries\n",
        "thisdict = {\n",
        "  \"brand\": \"Ford\",\n",
        "  \"model\": \"Mustang\",\n",
        "  \"year\": 1964\n",
        "}\n",
        "print(thisdict)"
      ],
      "metadata": {
        "colab": {
          "base_uri": "https://localhost:8080/"
        },
        "id": "n1PbZ7EATJAr",
        "outputId": "1befa134-7dad-464b-89db-eaf51e0ca3e2"
      },
      "execution_count": null,
      "outputs": [
        {
          "output_type": "stream",
          "name": "stdout",
          "text": [
            "{'brand': 'Ford', 'model': 'Mustang', 'year': 1964}\n"
          ]
        }
      ]
    },
    {
      "cell_type": "code",
      "source": [
        "#to print a particular brand value\n",
        "dict = {\n",
        "  \"brand\": \"Ford\",\n",
        "  \"model\": \"Mustang\",\n",
        "  \"year\": 1964\n",
        "}\n",
        "print(dict[\"brand\"])"
      ],
      "metadata": {
        "colab": {
          "base_uri": "https://localhost:8080/"
        },
        "id": "BVA8nSKwgqLD",
        "outputId": "d7808f3f-0448-432b-90a9-4b60fe4a3595"
      },
      "execution_count": null,
      "outputs": [
        {
          "output_type": "stream",
          "name": "stdout",
          "text": [
            "Ford\n"
          ]
        }
      ]
    },
    {
      "cell_type": "code",
      "source": [
        ""
      ],
      "metadata": {
        "id": "bfmkJXgtg1qK"
      },
      "execution_count": null,
      "outputs": []
    }
  ]
}