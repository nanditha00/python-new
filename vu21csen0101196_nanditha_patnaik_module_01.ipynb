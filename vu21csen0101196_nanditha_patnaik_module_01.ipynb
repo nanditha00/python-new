{
  "cells": [
    {
      "cell_type": "markdown",
      "metadata": {
        "id": "view-in-github",
        "colab_type": "text"
      },
      "source": [
        "<a href=\"https://colab.research.google.com/github/nanditha00/python-new/blob/MODULE-1/vu21csen0101196_nanditha_patnaik_module_01.ipynb\" target=\"_parent\"><img src=\"https://colab.research.google.com/assets/colab-badge.svg\" alt=\"Open In Colab\"/></a>"
      ]
    },
    {
      "cell_type": "code",
      "execution_count": null,
      "metadata": {
        "colab": {
          "base_uri": "https://localhost:8080/"
        },
        "id": "GpNRyqF0cL5A",
        "outputId": "04a531c7-ede7-44de-cf4e-d75dabc82579"
      },
      "outputs": [
        {
          "name": "stdout",
          "output_type": "stream",
          "text": [
            "enter any number5\n",
            "5\n"
          ]
        }
      ],
      "source": [
        "#enter a number store in a variable and print it\n",
        "a=int(input(\"enter any number\"))\n",
        "print(a)"
      ]
    },
    {
      "cell_type": "code",
      "execution_count": null,
      "metadata": {
        "colab": {
          "base_uri": "https://localhost:8080/"
        },
        "id": "yOzfZesIchbZ",
        "outputId": "0d08073a-6b2c-4042-c359-dd5126373f92"
      },
      "outputs": [
        {
          "name": "stdout",
          "output_type": "stream",
          "text": [
            "nanditha 17\n"
          ]
        }
      ],
      "source": [
        "#use .format\n",
        "age='17'\n",
        "name= \"nanditha {}\"\n",
        "print(name.format(age)) "
      ]
    },
    {
      "cell_type": "code",
      "execution_count": null,
      "metadata": {
        "colab": {
          "base_uri": "https://localhost:8080/"
        },
        "id": "kWNC8wnVdtZW",
        "outputId": "183423ea-ee85-45eb-fccc-7172b01c6e41"
      },
      "outputs": [
        {
          "name": "stdout",
          "output_type": "stream",
          "text": [
            "7\n",
            "3\n",
            "10\n",
            "1\n"
          ]
        }
      ],
      "source": [
        "#Take 2 numbers as user input and add, multiply, divide, subtract, remainder and print\n",
        "#the output\n",
        "a=5\n",
        "b=2\n",
        "c=a+b\n",
        "print(c)\n",
        "d=a-b\n",
        "print(d)\n",
        "e=a*b\n",
        "print(e)\n",
        "f=a%b\n",
        "print(f)"
      ]
    },
    {
      "cell_type": "code",
      "execution_count": null,
      "metadata": {
        "colab": {
          "base_uri": "https://localhost:8080/"
        },
        "id": "-aowSaTFeQAG",
        "outputId": "88279068-47da-4102-aa7f-59e5c0386d5a"
      },
      "outputs": [
        {
          "name": "stdout",
          "output_type": "stream",
          "text": [
            "240\n"
          ]
        }
      ],
      "source": [
        "#conversion of time\n",
        "a=int(input(\"enter the time in hours\"))\n",
        "min=a*60\n",
        "print(min)"
      ]
    },
    {
      "cell_type": "code",
      "execution_count": null,
      "metadata": {
        "colab": {
          "base_uri": "https://localhost:8080/"
        },
        "id": "205algdeekxm",
        "outputId": "70b5bc82-cbc2-4091-8174-ab2c321feb69"
      },
      "outputs": [
        {
          "name": "stdout",
          "output_type": "stream",
          "text": [
            "enter the temperature in farenheit56\n",
            "88\n"
          ]
        }
      ],
      "source": [
        "#conversion of temp\n",
        "f=int(input(\"enter the temperature in farenheit\"))\n",
        "c=f+32\n",
        "print(c)\n"
      ]
    },
    {
      "cell_type": "code",
      "execution_count": null,
      "metadata": {
        "colab": {
          "base_uri": "https://localhost:8080/"
        },
        "id": "CfzjZgZ6fKJZ",
        "outputId": "1f1f3caa-8a2e-4744-99e4-b1ca92568065"
      },
      "outputs": [
        {
          "name": "stdout",
          "output_type": "stream",
          "text": [
            "enter the distance in kilometers5\n",
            "3.1\n"
          ]
        }
      ],
      "source": [
        "#conversion of dist\n",
        "a=int(input(\"enter the distance in kilometers\"))\n",
        "miles=a*0.62\n",
        "print(miles)\n"
      ]
    },
    {
      "cell_type": "code",
      "execution_count": null,
      "metadata": {
        "colab": {
          "base_uri": "https://localhost:8080/"
        },
        "id": "-QFpesqWf88E",
        "outputId": "7bca728b-e729-4e37-a140-18630f25cd9f"
      },
      "outputs": [
        {
          "name": "stdout",
          "output_type": "stream",
          "text": [
            "5\n",
            "9.0\n",
            "3\n",
            "8\n",
            "9.0\n"
          ]
        }
      ],
      "source": [
        "#using math functions in python\n",
        "import math\n",
        "a=4.567\n",
        "print(math.ceil(a))\n",
        "b=-9\n",
        "print(math.fabs(b))\n",
        "c=3.67\n",
        "print(math.floor(c))\n",
        "d=2**3\n",
        "print(d)\n",
        "e=math.sqrt(81)\n",
        "print(e)"
      ]
    },
    {
      "cell_type": "code",
      "execution_count": null,
      "metadata": {
        "colab": {
          "base_uri": "https://localhost:8080/"
        },
        "id": "jm0u-nzeiaf8",
        "outputId": "6782e5d7-b9f1-4650-fcae-d671d938a8fe"
      },
      "outputs": [
        {
          "output_type": "stream",
          "name": "stdout",
          "text": [
            "1=\"addition\",2=\"subtraction\",3=\"multiplication\",4=\"division\"\n",
            "enter any number upto 43\n",
            "6\n"
          ]
        }
      ],
      "source": [
        "#math calculator\n",
        "a=2\n",
        "b=3\n",
        "print('1=\"addition\",2=\"subtraction\",3=\"multiplication\",4=\"division\"')\n",
        "c=int(input(\"enter any number upto 4\"))\n",
        "if c==1:\n",
        "  print(a+b)\n",
        "elif c==2:\n",
        "    print(a-b)\n",
        "elif c==3:\n",
        "      print(a*b)\n",
        "elif c==4:\n",
        "      print(a/b)\n",
        "else:\n",
        "  print(invalid)\n",
        "\n",
        "\n"
      ]
    },
    {
      "cell_type": "code",
      "execution_count": null,
      "metadata": {
        "colab": {
          "base_uri": "https://localhost:8080/"
        },
        "id": "Ks9FHZvqn_l5",
        "outputId": "bd6f3573-a11c-4f2a-833a-04e49e62cbcb"
      },
      "outputs": [
        {
          "name": "stdout",
          "output_type": "stream",
          "text": [
            "enter the first subject marks99\n",
            "enter the second subject marks98\n",
            "enter the third subject marks96\n",
            "enter the fourth subject marks95\n",
            "97.0\n",
            "A grade\n"
          ]
        }
      ],
      "source": [
        "#accepting subj marks and printing the grade\n",
        "a=int(input(\"enter the first subject marks\"))\n",
        "b=int(input(\"enter the second subject marks\"))\n",
        "c=int(input(\"enter the third subject marks\"))\n",
        "d=int(input(\"enter the fourth subject marks\"))\n",
        "avg=(a+b+c+d)/4\n",
        "print(avg)\n",
        "if avg>=95.00:\n",
        "  print(\"A grade\")\n",
        "elif 90<avg<95:\n",
        "  print(\"B grade\")\n",
        "elif 85<avg<90:\n",
        "  print(\"C grade\")\n",
        "else:\n",
        "  print(\"D grade\")\n"
      ]
    },
    {
      "cell_type": "code",
      "execution_count": null,
      "metadata": {
        "colab": {
          "base_uri": "https://localhost:8080/"
        },
        "id": "Qn3E4IIXzMuD",
        "outputId": "77c54881-271a-45c4-947f-f1f0f8efc64f"
      },
      "outputs": [
        {
          "name": "stdout",
          "output_type": "stream",
          "text": [
            "odd numbers are  1\n",
            "even numbers are 2\n",
            "odd numbers are  3\n",
            "even numbers are 4\n",
            "odd numbers are  5\n",
            "even numbers are 6\n",
            "odd numbers are  7\n",
            "even numbers are 8\n",
            "odd numbers are  9\n"
          ]
        }
      ],
      "source": [
        "#print all even numbers and odd numbers\n",
        "for i in range(1,10):\n",
        "    if i%2==0:\n",
        "        print(\"even numbers are\",i)\n",
        "    else:\n",
        "        print(\"odd numbers are \",i)"
      ]
    },
    {
      "cell_type": "code",
      "source": [
        "#palindrome\n",
        "a=int(input(\"enter the number you want to find palindrome for\"))\n",
        "rev=0\n",
        "temp=a\n",
        "while temp>0:\n",
        "    rem=temp%10\n",
        "    rev=(rev*10)+rem\n",
        "    temp=temp//10\n",
        "if a==rev:\n",
        "    print(\"palindrome\")\n",
        "else:\n",
        "    print(\"not a palaindrome\")\n"
      ],
      "metadata": {
        "colab": {
          "base_uri": "https://localhost:8080/"
        },
        "id": "F2Lo3Qvv2lHT",
        "outputId": "203f5d37-cb9b-4561-c2a9-2711dc852ff8"
      },
      "execution_count": null,
      "outputs": [
        {
          "output_type": "stream",
          "name": "stdout",
          "text": [
            "enter the number you want to find palindrome for1221\n",
            "palindrome\n"
          ]
        }
      ]
    },
    {
      "cell_type": "code",
      "source": [
        "#gcd\n",
        "num1 = int(input(\"Enter 1st number: \"))\n",
        "num2 = int(input(\"Enter 2nd number: \"))\n",
        "gcd=i\n",
        "while (i <= num1 and i <= num2):\n",
        "                          if(num1 % i == 0 and num2 % i == 0):\n",
        "                                                          gcd = i\n",
        "                                                          i = i + 1\n",
        "                                                          print(\"GCD is\",gcd)\n"
      ],
      "metadata": {
        "colab": {
          "base_uri": "https://localhost:8080/"
        },
        "id": "HL4YOe2e3Gle",
        "outputId": "1f094ab3-115c-4c75-aa34-e614baf14a14"
      },
      "execution_count": null,
      "outputs": [
        {
          "output_type": "stream",
          "name": "stdout",
          "text": [
            "Enter 1st number: 6\n",
            "Enter 2nd number: 3\n",
            "GCD is 3\n"
          ]
        }
      ]
    },
    {
      "cell_type": "code",
      "source": [
        "#factorial\n",
        "a=int(input(\"enter the number\"))\n",
        "fact=1\n",
        "for i in range(1,a+1):\n",
        "                     fact=fact*i\n",
        "                     print(fact)\n"
      ],
      "metadata": {
        "colab": {
          "base_uri": "https://localhost:8080/"
        },
        "id": "9DQraRwv87xH",
        "outputId": "7123dcb1-4b50-4e84-bfc3-cd22b962c559"
      },
      "execution_count": null,
      "outputs": [
        {
          "output_type": "stream",
          "name": "stdout",
          "text": [
            "enter the number5\n",
            "1\n",
            "2\n",
            "6\n",
            "24\n",
            "120\n"
          ]
        }
      ]
    },
    {
      "cell_type": "code",
      "source": [
        "#perfect numbers\n",
        "a=int(input(\"enter the number\"))\n",
        "sum=0\n",
        "for i in range (1,a):\n",
        "                    if a%i==0:\n",
        "                             sum=sum+i\n",
        "if sum==a:\n",
        "         print(\"perfect number\")\n",
        "else:\n",
        "     print(\"not a perfect number\")\n"
      ],
      "metadata": {
        "colab": {
          "base_uri": "https://localhost:8080/"
        },
        "id": "fZbwoyYe9XHg",
        "outputId": "8554b576-cce6-460b-bb5a-80e5bc394eb7"
      },
      "execution_count": null,
      "outputs": [
        {
          "output_type": "stream",
          "name": "stdout",
          "text": [
            "enter the number25\n",
            "not a perfect number\n"
          ]
        }
      ]
    },
    {
      "cell_type": "code",
      "source": [
        "#si and ci\n",
        "import math\n",
        "p=int(input(\"enter the principal amount\"))\n",
        "r=int(input(\"enter the intrest amount\"))\n",
        "t=int(input(\"amount of years\"))\n",
        "for i in range(1,t+1):\n",
        "                     si=(p*i*r)//100\n",
        "                     print(i,\"yr interst si is \",si)\n",
        "                     ci=p*(math.pow(1+r/100,i))\n",
        "                     print(i,\"yr interst ci is \",ci) \n"
      ],
      "metadata": {
        "colab": {
          "base_uri": "https://localhost:8080/"
        },
        "id": "ynzky57C98gS",
        "outputId": "2dd898bb-d9f9-4064-cc19-170cc3692791"
      },
      "execution_count": null,
      "outputs": [
        {
          "output_type": "stream",
          "name": "stdout",
          "text": [
            "enter the principal amount100\n",
            "enter the intrest amount5\n",
            "amount of years2\n",
            "1 yr interst si is  5\n",
            "1 yr interst ci is  105.0\n",
            "2 yr interst si is  10\n",
            "2 yr interst ci is  110.25\n"
          ]
        }
      ]
    },
    {
      "cell_type": "code",
      "source": [
        " #fibonacci series\n",
        " a=0;b=1;n=int(input(\"enter number of terms u want to find plandrome for\"))\n",
        "print(a,b)\n",
        "for i in range(1,n):\n",
        "                   nextnum=a+b\n",
        "                   print(nextnum)\n",
        "                   a=b\n",
        "                   b=nextnum\n",
        "                   i=i+1\n"
      ],
      "metadata": {
        "colab": {
          "base_uri": "https://localhost:8080/"
        },
        "id": "lvibHmub_Ag8",
        "outputId": "eb79dc67-5774-4016-e5fb-02d081292963"
      },
      "execution_count": null,
      "outputs": [
        {
          "output_type": "stream",
          "name": "stdout",
          "text": [
            "enter number of terms u want to find plandrome for56\n",
            "0 1\n",
            "1\n",
            "2\n",
            "3\n",
            "5\n",
            "8\n",
            "13\n",
            "21\n",
            "34\n",
            "55\n",
            "89\n",
            "144\n",
            "233\n",
            "377\n",
            "610\n",
            "987\n",
            "1597\n",
            "2584\n",
            "4181\n",
            "6765\n",
            "10946\n",
            "17711\n",
            "28657\n",
            "46368\n",
            "75025\n",
            "121393\n",
            "196418\n",
            "317811\n",
            "514229\n",
            "832040\n",
            "1346269\n",
            "2178309\n",
            "3524578\n",
            "5702887\n",
            "9227465\n",
            "14930352\n",
            "24157817\n",
            "39088169\n",
            "63245986\n",
            "102334155\n",
            "165580141\n",
            "267914296\n",
            "433494437\n",
            "701408733\n",
            "1134903170\n",
            "1836311903\n",
            "2971215073\n",
            "4807526976\n",
            "7778742049\n",
            "12586269025\n",
            "20365011074\n",
            "32951280099\n",
            "53316291173\n",
            "86267571272\n",
            "139583862445\n",
            "225851433717\n"
          ]
        }
      ]
    },
    {
      "cell_type": "code",
      "source": [
        ""
      ],
      "metadata": {
        "id": "_phEC3hn_hGo"
      },
      "execution_count": null,
      "outputs": []
    }
  ],
  "metadata": {
    "colab": {
      "collapsed_sections": [],
      "name": "vu21csen0101196 nanditha patnaik module 01",
      "provenance": [],
      "authorship_tag": "ABX9TyMEiiVuA9jY6DH5ZmtEM+je",
      "include_colab_link": true
    },
    "kernelspec": {
      "display_name": "Python 3",
      "name": "python3"
    },
    "language_info": {
      "name": "python"
    }
  },
  "nbformat": 4,
  "nbformat_minor": 0
}